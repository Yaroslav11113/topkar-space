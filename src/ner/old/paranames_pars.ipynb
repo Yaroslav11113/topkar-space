{
  "nbformat": 4,
  "nbformat_minor": 0,
  "metadata": {
    "colab": {
      "provenance": [],
      "authorship_tag": "ABX9TyMxjfM23oHd1Ys+88DkBznV",
      "include_colab_link": true
    },
    "kernelspec": {
      "name": "python3",
      "display_name": "Python 3"
    },
    "language_info": {
      "name": "python"
    }
  },
  "cells": [
    {
      "cell_type": "markdown",
      "metadata": {
        "id": "view-in-github",
        "colab_type": "text"
      },
      "source": [
        "<a href=\"https://colab.research.google.com/github/componavt/topkar-space/blob/main/paranames_pars.ipynb\" target=\"_parent\"><img src=\"https://colab.research.google.com/assets/colab-badge.svg\" alt=\"Open In Colab\"/></a>"
      ]
    },
    {
      "cell_type": "code",
      "execution_count": null,
      "metadata": {
        "id": "_nwUdGARWp_1"
      },
      "outputs": [],
      "source": [
        "import pandas as pd\n",
        "\n",
        "df_sample = pd.read_csv('filtered_fi_loc.tsv.gz', sep='\\t', compression='gzip', nrows=20)  # 5 строк\n",
        "print(df_sample.columns.tolist())  # Названия столбцов\n",
        "print(df_sample.head())  # Данные для проверки"
      ]
    },
    {
      "cell_type": "code",
      "source": [
        "import pandas as pd\n",
        "\n",
        "# Указываем пути\n",
        "input_file = \"paranames.tsv.gz\"\n",
        "output_file = \"val_loc.tsv.gz\"\n",
        "\n",
        "# файл огромный обрабатываем по частям\n",
        "chunksize = 100000  # Размер чанка\n",
        "filtered_chunks = []\n",
        "\n",
        "for chunk in pd.read_csv(input_file, sep='\\t', compression='gzip', chunksize=chunksize):\n",
        "    filtered_chunk = chunk[chunk['language'] == 'fi') & (chunk['type'] == 'LOC')]\n",
        "    filtered_chunks.append(filtered_chunk)\n",
        "\n",
        "filtered_df = pd.concat(filtered_chunks)\n",
        "\n",
        "# # Сохранение результата\n",
        "# filtered_df.to_csv(output_file, sep='\\t', compression='gzip', index=False)\n",
        "print(filtered_df)\n",
        "\n",
        "print(f\"Готово! Отфильтрованные данные сохранены в {output_file}\")\n",
        "print(f\"Найдено записей: {len(filtered_df)}\")"
      ],
      "metadata": {
        "id": "HXfILNstWtUy"
      },
      "execution_count": null,
      "outputs": []
    },
    {
      "cell_type": "code",
      "source": [
        "import pandas as pd\n",
        "\n",
        "# Указываем пути\n",
        "input_file = \"paranames.tsv.gz\"\n",
        "output_file = \"val_loc.tsv.gz\"\n",
        "\n",
        "# файл огромный обрабатываем по частям\n",
        "chunksize = 100000  # Размер чанка\n",
        "filtered_chunks = []\n",
        "\n",
        "for chunk in pd.read_csv(input_file, sep='\\t', compression='gzip', chunksize=chunksize):\n",
        "    filtered_chunk = chunk[chunk['language'] == 'ru') & (chunk['type'] == 'LOC')]\n",
        "    filtered_chunks.append(filtered_chunk)\n",
        "\n",
        "filtered_df = pd.concat(filtered_chunks)\n",
        "\n",
        "# # Сохранение результата\n",
        "# filtered_df.to_csv(output_file, sep='\\t', compression='gzip', index=False)\n",
        "print(filtered_df)\n",
        "\n",
        "print(f\"Готово! Отфильтрованные данные сохранены в {output_file}\")\n",
        "print(f\"Найдено записей: {len(filtered_df)}\")"
      ],
      "metadata": {
        "id": "Gf6fPdB-W854"
      },
      "execution_count": null,
      "outputs": []
    }
  ]
}

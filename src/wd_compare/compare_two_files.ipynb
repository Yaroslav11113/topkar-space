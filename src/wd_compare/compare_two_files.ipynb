{
  "nbformat": 4,
  "nbformat_minor": 0,
  "metadata": {
    "colab": {
      "provenance": [],
      "include_colab_link": true
    },
    "kernelspec": {
      "name": "python3",
      "display_name": "Python 3"
    },
    "language_info": {
      "name": "python"
    }
  },
  "cells": [
    {
      "cell_type": "markdown",
      "metadata": {
        "id": "view-in-github",
        "colab_type": "text"
      },
      "source": [
        "<a href=\"https://colab.research.google.com/github/componavt/topkar-space/blob/main/wd_compare/compare_two_files.ipynb\" target=\"_parent\"><img src=\"https://colab.research.google.com/assets/colab-badge.svg\" alt=\"Open In Colab\"/></a>"
      ]
    },
    {
      "cell_type": "code",
      "source": [
        "!pip install jellyfish\n",
        "!pip install --upgrade google-api-python-client"
      ],
      "metadata": {
        "id": "18u4HWDtEr-u"
      },
      "execution_count": null,
      "outputs": []
    },
    {
      "cell_type": "code",
      "execution_count": 6,
      "metadata": {
        "id": "kwB0A9Gh8H3-"
      },
      "outputs": [],
      "source": [
        "from itertools import chain\n",
        "from difflib import SequenceMatcher\n",
        "from ctypes import sizeof\n",
        "import time\n",
        "import jellyfish as jf\n",
        "from google.oauth2 import service_account\n",
        "from googleapiclient.http import MediaIoBaseDownload,MediaFileUpload\n",
        "from googleapiclient.discovery import build\n",
        "import pprint\n",
        "import io\n",
        "import csv\n"
      ]
    },
    {
      "cell_type": "code",
      "source": [
        "#!wget https://github.com/componavt/topkar-space/raw/master/wd_compare/island_query.txt\n",
        "!wget https://raw.githubusercontent.com/componavt/topkar-space/main/wd_compare/island_query.txt\n",
        "# cat island_query.txt\n",
        "\n",
        "!wget https://raw.githubusercontent.com/componavt/topkar-space/main/wd_compare/islands10.txt\n",
        "\n",
        "!wget https://raw.githubusercontent.com/componavt/topkar-space/main/wd_compare/lake_query.txt\n",
        "!wget https://raw.githubusercontent.com/componavt/topkar-space/main/wd_compare/lakes10.txt\n",
        "!wget https://raw.githubusercontent.com/componavt/topkar-space/main/wd_compare/island_q.txt\n",
        "!wget https://raw.githubusercontent.com/componavt/topkar-space/main/key/winged-complex-421609-672350f9d66f.json"
      ],
      "metadata": {
        "id": "QKJ0B2xqilKO"
      },
      "execution_count": null,
      "outputs": []
    },
    {
      "cell_type": "code",
      "source": [
        "def find_shared_elements(file1, file2, parametr):\n",
        "  start_time = time.time()\n",
        "  f2 = open(file1, 'r', encoding='utf-8')\n",
        "  f1 = open(file2, 'r',encoding='utf-8')\n",
        "\n",
        "  file1 = [line.strip().split('\t') for line in f1]\n",
        "  file2 = [line.strip().split('\t') for line in f2]\n",
        "\n",
        "\n",
        "  c,c2 = [],[] #лист для записи данных с Wikidata и Топкар соответственно\n",
        "  for i in file2:\n",
        "    for j in file1:\n",
        "      if SequenceMatcher(None,i[1],j[1]).ratio() > parametr:\n",
        "        c.append(i)\n",
        "        c2.append(j)\n",
        "\n",
        "\n",
        "  final = list(zip(c,c2))#лист с парами данных Wikidata/Топкар\n",
        "  print(c)\n",
        "  print(len(c))\n",
        "\n",
        "  f1.close()\n",
        "  f2.close()\n",
        "  print(\"--- %s seconds ---\" % (time.time() - start_time))\n",
        "  return(final)"
      ],
      "metadata": {
        "id": "EayKaUOB8he0"
      },
      "execution_count": 8,
      "outputs": []
    },
    {
      "cell_type": "code",
      "source": [
        "from ctypes import sizeof\n",
        "def find_shared_elements_jf(file1, file2,parametr):\n",
        "  start_time = time.time()\n",
        "  f2 = open(file1, 'r', encoding='utf-8')\n",
        "  f1 = open(file2, 'r',encoding='utf-8')\n",
        "\n",
        "  file1 = [line.strip().split('\t') for line in f1]\n",
        "  file2 = [line.strip().split('\t') for line in f2]\n",
        "\n",
        "\n",
        "  c,c2,c3 = [],[],[]#лист для записи данных с Wikidata и Топкар соответственно\n",
        "  for i in file2:\n",
        "    for j in file1:\n",
        "      lev = jf.levenshtein_distance(i[1],j[1])\n",
        "      if lev < parametr:\n",
        "        c.append(i)\n",
        "        c2.append(j)\n",
        "        c3.append(lev)\n",
        "\n",
        "  final = list(zip(c,c2,c3))#лист с парами данных Wikidata/Топкар\n",
        "  print(final)\n",
        "\n",
        "  f1.close()\n",
        "  f2.close()\n",
        "  print(\"--- %s seconds ---\" % (time.time() - start_time))\n",
        "  return(final,c,c2)"
      ],
      "metadata": {
        "id": "TGU_O7-lNoM1"
      },
      "execution_count": 9,
      "outputs": []
    },
    {
      "cell_type": "markdown",
      "source": [
        "Функция открывает два файла (file1 и file2) для чтения и считывает их содержимое. Затем она разделяет каждую строку на элементы, используя разделитель '  ', и сохраняет результат в виде списка списков.\n",
        "\n",
        "Далее функция проходит через каждую пару элементов из file2 и file1 и вычисляет расстояние Левенштейна между вторыми элементами каждой пары (i[1] и j[1]). Если расстояние меньше заданного значения parametr, то эта пара добавляется в соответствующие списки c, c2 и c3.\n",
        "\n",
        "Затем функция создает список final, объединяя списки c, c2 и c3 в кортежи. После этого она выводит final на экран.\n",
        "\n"
      ],
      "metadata": {
        "id": "ZAgz0MeSoSaV"
      }
    },
    {
      "cell_type": "code",
      "source": [
        "# c1 = find_shared_elements('island_q.txt', 'islands10.txt', 0.9)\n",
        "resived,c,c2 = find_shared_elements_jf('island_q.txt', 'islands10.txt', 2)\n",
        "\n",
        "nodes = c+c2 #Все обекты из Wikidata и Топкар\n",
        "# print(len(nodes))\n",
        "sorted_nodes = [list(x) for x in set(tuple(x) for x in nodes)] #Удаляем дубликаты\n",
        "# print(len(sorted_nodes))\n",
        "def write_nodes_to_csv(c1, filename):\n",
        "    with open(filename, 'w', newline='',encoding='utf-8') as csvfile:\n",
        "        header = ['Id', 'Label', 'Whereform']\n",
        "        # header = ['Id', 'Label']\n",
        "        csvwriter = csv.writer(csvfile)\n",
        "        csvwriter.writerow(header)\n",
        "        for row in c1:\n",
        "            print(row)\n",
        "            if row[0][0] == 'h':\n",
        "              row.append(\"wiki\")\n",
        "              csvwriter.writerow(row)\n",
        "            else:\n",
        "              row.append(\"topkar\")\n",
        "              csvwriter.writerow(row)\n",
        "\n",
        "def write_edges_to_csv(c1, filename):\n",
        "    with open(filename, 'w', newline='',encoding='utf-8') as csvfile:\n",
        "        header = ['Source', 'Target', 'Weight']\n",
        "        csvwriter = csv.writer(csvfile)\n",
        "        csvwriter.writerow(header)\n",
        "        for row in c1:\n",
        "          # if row[2]>0:\n",
        "            print(row)\n",
        "            out = [row[0][0],row[1][0], row[2]+1]\n",
        "            csvwriter.writerow(out)\n",
        "\n",
        "\n",
        "filename_nodes = 'output_n.csv'\n",
        "filename_edges = 'output_e.csv'\n",
        "write_nodes_to_csv(sorted_nodes, filename_nodes) #создаём файл с вершинами гафа\n",
        "write_edges_to_csv(resived, filename_edges) #создаём файл с рёбрами графа\n"
      ],
      "metadata": {
        "id": "tiSKl3jaOFEC"
      },
      "execution_count": null,
      "outputs": []
    },
    {
      "cell_type": "code",
      "source": [],
      "metadata": {
        "id": "L27xOt57bMfJ"
      },
      "execution_count": null,
      "outputs": []
    },
    {
      "cell_type": "markdown",
      "source": [
        " Вызывается функция find_shared_elements_jf с указанными аргументами имён файлов и параметра\n",
        "\n",
        " Создается список sorted_nodes, в котором удаляются дубликаты объектов.\n",
        "\n",
        " Определяются две функции: write_nodes_to_csv и write_edges_to_csv, которые будут использоваться для записи данных в CSV-файлы.\n",
        "\n",
        "  Функция write_nodes_to_csv записывает данные л вершинах графа из списка c1 в файл с именем filename в формате CSV, добавляя информацию о типе объекта (\"wiki\" или \"topkar\") в последний столбец в зависимости от значения первого элемента каждой строки.\n",
        "\n",
        "  Функция write_edges_to_csv записывает данные о рёбрах графа из списка c1 в файл с именем filename в формате CSV.\n",
        "\n",
        "  Наконец, вызываются функции write_nodes_to_csv и write_edges_to_csv, чтобы создать файлы с вершинами и ребрами графа"
      ],
      "metadata": {
        "id": "OpZ-131omCTU"
      }
    },
    {
      "cell_type": "code",
      "source": [
        "pp = pprint.PrettyPrinter(indent=4)\n",
        "\n",
        "SCOPES = ['https://www.googleapis.com/auth/drive']\n",
        "SERVICE_ACCOUNT_FILE = '/content/winged-complex-421609-672350f9d66f.json'\n",
        "credentials = service_account.Credentials.from_service_account_file(\n",
        "        SERVICE_ACCOUNT_FILE, scopes=SCOPES)\n",
        "service = build('drive', 'v3', credentials=credentials)\n",
        "\n",
        "\n",
        "folder_id = '1N5OznaW-E1wzuLAQXkAmtwuCXZEgBRLo'\n",
        "name = 'output_e.csv'\n",
        "file_path = '/content/output_e.csv'\n",
        "file_metadata = {\n",
        "                'name': name,\n",
        "                'parents': [folder_id]\n",
        "            }\n",
        "media = MediaFileUpload(file_path, resumable=True)\n",
        "r = service.files().create(body=file_metadata, media_body=media, fields='id').execute()\n",
        "\n",
        "folder_id = '1N5OznaW-E1wzuLAQXkAmtwuCXZEgBRLo'\n",
        "name = 'output_n.csv'\n",
        "file_metadata = {\n",
        "                'name': name,\n",
        "                'parents': [folder_id]\n",
        "            }\n",
        "file_path = '/content/output_n.csv'\n",
        "media = MediaFileUpload(file_path, resumable=True)\n",
        "r = service.files().create(body=file_metadata, media_body=media, fields='id').execute()\n",
        "\n",
        "\n",
        "pp.pprint(r)"
      ],
      "metadata": {
        "id": "0Gu2PlheGKH6",
        "outputId": "21855fb4-deea-4bc9-bd51-7a2f9becb723",
        "colab": {
          "base_uri": "https://localhost:8080/"
        }
      },
      "execution_count": null,
      "outputs": [
        {
          "output_type": "stream",
          "name": "stdout",
          "text": [
            "{'id': '1iZVkhveRQa6Om3vW5rjbP8sb8vR8_w1B'}\n"
          ]
        }
      ]
    },
    {
      "cell_type": "markdown",
      "source": [
        "Устанавливаем необходимые права доступа (SCOPES) и загружаем файл сервисного аккаунта (SERVICE_ACCOUNT_FILE).\n",
        "\n",
        "Создаем учетные данные (credentials) на основе файла сервисного аккаунта и указанных прав доступа.\n",
        "\n",
        "Определяем идентификатор папки (folder_id), имя файла (name), путь к файлу на локальной машине (file_path) и метаданные файла для первого файла.\n",
        "\n",
        "Загружаем первый файл на Google Drive с помощью метода files().create() с указанием метаданных и содержимого файла.\n",
        "\n",
        "Повторяем предыдущие два шага для второго файла"
      ],
      "metadata": {
        "id": "AuGRMy7jnvyP"
      }
    }
  ]
}
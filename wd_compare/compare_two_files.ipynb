{
  "nbformat": 4,
  "nbformat_minor": 0,
  "metadata": {
    "colab": {
      "provenance": [],
      "include_colab_link": true
    },
    "kernelspec": {
      "name": "python3",
      "display_name": "Python 3"
    },
    "language_info": {
      "name": "python"
    }
  },
  "cells": [
    {
      "cell_type": "markdown",
      "metadata": {
        "id": "view-in-github",
        "colab_type": "text"
      },
      "source": [
        "<a href=\"https://colab.research.google.com/github/componavt/topkar-space/blob/main/wd_compare/compare_two_files.ipynb\" target=\"_parent\"><img src=\"https://colab.research.google.com/assets/colab-badge.svg\" alt=\"Open In Colab\"/></a>"
      ]
    },
    {
      "cell_type": "code",
      "source": [
        "!pip install jellyfish\n",
        "!pip install --upgrade google-api-python-client"
      ],
      "metadata": {
        "id": "18u4HWDtEr-u",
        "outputId": "2f8bc1dd-4d39-44d8-cbd8-15825b2f247f",
        "colab": {
          "base_uri": "https://localhost:8080/"
        }
      },
      "execution_count": null,
      "outputs": [
        {
          "output_type": "stream",
          "name": "stdout",
          "text": [
            "Collecting jellyfish\n",
            "  Downloading jellyfish-1.0.3-cp310-cp310-manylinux_2_17_x86_64.manylinux2014_x86_64.whl (1.2 MB)\n",
            "\u001b[2K     \u001b[90m━━━━━━━━━━━━━━━━━━━━━━━━━━━━━━━━━━━━━━━━\u001b[0m \u001b[32m1.2/1.2 MB\u001b[0m \u001b[31m5.3 MB/s\u001b[0m eta \u001b[36m0:00:00\u001b[0m\n",
            "\u001b[?25hInstalling collected packages: jellyfish\n",
            "Successfully installed jellyfish-1.0.3\n",
            "Requirement already satisfied: google-api-python-client in /usr/local/lib/python3.10/dist-packages (2.84.0)\n",
            "Collecting google-api-python-client\n",
            "  Downloading google_api_python_client-2.127.0-py2.py3-none-any.whl (12.7 MB)\n",
            "\u001b[2K     \u001b[90m━━━━━━━━━━━━━━━━━━━━━━━━━━━━━━━━━━━━━━━━\u001b[0m \u001b[32m12.7/12.7 MB\u001b[0m \u001b[31m40.0 MB/s\u001b[0m eta \u001b[36m0:00:00\u001b[0m\n",
            "\u001b[?25hRequirement already satisfied: httplib2<1.dev0,>=0.19.0 in /usr/local/lib/python3.10/dist-packages (from google-api-python-client) (0.22.0)\n",
            "Requirement already satisfied: google-auth!=2.24.0,!=2.25.0,<3.0.0.dev0,>=1.32.0 in /usr/local/lib/python3.10/dist-packages (from google-api-python-client) (2.27.0)\n",
            "Collecting google-auth-httplib2<1.0.0,>=0.2.0 (from google-api-python-client)\n",
            "  Downloading google_auth_httplib2-0.2.0-py2.py3-none-any.whl (9.3 kB)\n",
            "Requirement already satisfied: google-api-core!=2.0.*,!=2.1.*,!=2.2.*,!=2.3.0,<3.0.0.dev0,>=1.31.5 in /usr/local/lib/python3.10/dist-packages (from google-api-python-client) (2.11.1)\n",
            "Requirement already satisfied: uritemplate<5,>=3.0.1 in /usr/local/lib/python3.10/dist-packages (from google-api-python-client) (4.1.1)\n",
            "Requirement already satisfied: googleapis-common-protos<2.0.dev0,>=1.56.2 in /usr/local/lib/python3.10/dist-packages (from google-api-core!=2.0.*,!=2.1.*,!=2.2.*,!=2.3.0,<3.0.0.dev0,>=1.31.5->google-api-python-client) (1.63.0)\n",
            "Requirement already satisfied: protobuf!=3.20.0,!=3.20.1,!=4.21.0,!=4.21.1,!=4.21.2,!=4.21.3,!=4.21.4,!=4.21.5,<5.0.0.dev0,>=3.19.5 in /usr/local/lib/python3.10/dist-packages (from google-api-core!=2.0.*,!=2.1.*,!=2.2.*,!=2.3.0,<3.0.0.dev0,>=1.31.5->google-api-python-client) (3.20.3)\n",
            "Requirement already satisfied: requests<3.0.0.dev0,>=2.18.0 in /usr/local/lib/python3.10/dist-packages (from google-api-core!=2.0.*,!=2.1.*,!=2.2.*,!=2.3.0,<3.0.0.dev0,>=1.31.5->google-api-python-client) (2.31.0)\n",
            "Requirement already satisfied: cachetools<6.0,>=2.0.0 in /usr/local/lib/python3.10/dist-packages (from google-auth!=2.24.0,!=2.25.0,<3.0.0.dev0,>=1.32.0->google-api-python-client) (5.3.3)\n",
            "Requirement already satisfied: pyasn1-modules>=0.2.1 in /usr/local/lib/python3.10/dist-packages (from google-auth!=2.24.0,!=2.25.0,<3.0.0.dev0,>=1.32.0->google-api-python-client) (0.4.0)\n",
            "Requirement already satisfied: rsa<5,>=3.1.4 in /usr/local/lib/python3.10/dist-packages (from google-auth!=2.24.0,!=2.25.0,<3.0.0.dev0,>=1.32.0->google-api-python-client) (4.9)\n",
            "Requirement already satisfied: pyparsing!=3.0.0,!=3.0.1,!=3.0.2,!=3.0.3,<4,>=2.4.2 in /usr/local/lib/python3.10/dist-packages (from httplib2<1.dev0,>=0.19.0->google-api-python-client) (3.1.2)\n",
            "Requirement already satisfied: pyasn1<0.7.0,>=0.4.6 in /usr/local/lib/python3.10/dist-packages (from pyasn1-modules>=0.2.1->google-auth!=2.24.0,!=2.25.0,<3.0.0.dev0,>=1.32.0->google-api-python-client) (0.6.0)\n",
            "Requirement already satisfied: charset-normalizer<4,>=2 in /usr/local/lib/python3.10/dist-packages (from requests<3.0.0.dev0,>=2.18.0->google-api-core!=2.0.*,!=2.1.*,!=2.2.*,!=2.3.0,<3.0.0.dev0,>=1.31.5->google-api-python-client) (3.3.2)\n",
            "Requirement already satisfied: idna<4,>=2.5 in /usr/local/lib/python3.10/dist-packages (from requests<3.0.0.dev0,>=2.18.0->google-api-core!=2.0.*,!=2.1.*,!=2.2.*,!=2.3.0,<3.0.0.dev0,>=1.31.5->google-api-python-client) (3.7)\n",
            "Requirement already satisfied: urllib3<3,>=1.21.1 in /usr/local/lib/python3.10/dist-packages (from requests<3.0.0.dev0,>=2.18.0->google-api-core!=2.0.*,!=2.1.*,!=2.2.*,!=2.3.0,<3.0.0.dev0,>=1.31.5->google-api-python-client) (2.0.7)\n",
            "Requirement already satisfied: certifi>=2017.4.17 in /usr/local/lib/python3.10/dist-packages (from requests<3.0.0.dev0,>=2.18.0->google-api-core!=2.0.*,!=2.1.*,!=2.2.*,!=2.3.0,<3.0.0.dev0,>=1.31.5->google-api-python-client) (2024.2.2)\n",
            "Installing collected packages: google-auth-httplib2, google-api-python-client\n",
            "  Attempting uninstall: google-auth-httplib2\n",
            "    Found existing installation: google-auth-httplib2 0.1.1\n",
            "    Uninstalling google-auth-httplib2-0.1.1:\n",
            "      Successfully uninstalled google-auth-httplib2-0.1.1\n",
            "  Attempting uninstall: google-api-python-client\n",
            "    Found existing installation: google-api-python-client 2.84.0\n",
            "    Uninstalling google-api-python-client-2.84.0:\n",
            "      Successfully uninstalled google-api-python-client-2.84.0\n",
            "Successfully installed google-api-python-client-2.127.0 google-auth-httplib2-0.2.0\n"
          ]
        }
      ]
    },
    {
      "cell_type": "code",
      "execution_count": null,
      "metadata": {
        "id": "kwB0A9Gh8H3-"
      },
      "outputs": [],
      "source": [
        "from itertools import chain\n",
        "from difflib import SequenceMatcher\n",
        "from ctypes import sizeof\n",
        "import time\n",
        "import jellyfish as jf\n",
        "from google.oauth2 import service_account\n",
        "from googleapiclient.http import MediaIoBaseDownload,MediaFileUpload\n",
        "from googleapiclient.discovery import build\n",
        "import pprint\n",
        "import io\n",
        "import csv\n"
      ]
    },
    {
      "cell_type": "code",
      "source": [
        "#!wget https://github.com/componavt/topkar-space/raw/master/wd_compare/island_query.txt\n",
        "!wget https://raw.githubusercontent.com/componavt/topkar-space/main/wd_compare/island_query.txt\n",
        "# cat island_query.txt\n",
        "\n",
        "!wget https://raw.githubusercontent.com/componavt/topkar-space/main/wd_compare/islands10.txt\n",
        "\n",
        "!wget https://raw.githubusercontent.com/componavt/topkar-space/main/wd_compare/lake_query.txt\n",
        "!wget https://raw.githubusercontent.com/componavt/topkar-space/main/wd_compare/lakes10.txt\n",
        "!wget https://raw.githubusercontent.com/componavt/topkar-space/main/wd_compare/island_q.txt\n",
        "!wget https://raw.githubusercontent.com/componavt/topkar-space/main/key/winged-complex-421609-672350f9d66f.json"
      ],
      "metadata": {
        "id": "QKJ0B2xqilKO",
        "outputId": "d2cce4e6-f3ae-4b0e-9ccb-d975dec9cd92",
        "colab": {
          "base_uri": "https://localhost:8080/"
        }
      },
      "execution_count": null,
      "outputs": [
        {
          "output_type": "stream",
          "name": "stdout",
          "text": [
            "--2024-04-27 10:32:11--  https://raw.githubusercontent.com/componavt/topkar-space/main/wd_compare/island_query.txt\n",
            "Resolving raw.githubusercontent.com (raw.githubusercontent.com)... 185.199.111.133, 185.199.108.133, 185.199.110.133, ...\n",
            "Connecting to raw.githubusercontent.com (raw.githubusercontent.com)|185.199.111.133|:443... connected.\n",
            "HTTP request sent, awaiting response... 200 OK\n",
            "Length: 2164 (2.1K) [text/plain]\n",
            "Saving to: ‘island_query.txt.3’\n",
            "\n",
            "\risland_query.txt.3    0%[                    ]       0  --.-KB/s               \risland_query.txt.3  100%[===================>]   2.11K  --.-KB/s    in 0s      \n",
            "\n",
            "2024-04-27 10:32:11 (23.6 MB/s) - ‘island_query.txt.3’ saved [2164/2164]\n",
            "\n",
            "--2024-04-27 10:32:11--  https://raw.githubusercontent.com/componavt/topkar-space/main/wd_compare/islands10.txt\n",
            "Resolving raw.githubusercontent.com (raw.githubusercontent.com)... 185.199.111.133, 185.199.108.133, 185.199.110.133, ...\n",
            "Connecting to raw.githubusercontent.com (raw.githubusercontent.com)|185.199.111.133|:443... connected.\n",
            "HTTP request sent, awaiting response... 200 OK\n",
            "Length: 98985 (97K) [text/plain]\n",
            "Saving to: ‘islands10.txt.3’\n",
            "\n",
            "islands10.txt.3     100%[===================>]  96.67K  --.-KB/s    in 0.01s   \n",
            "\n",
            "2024-04-27 10:32:11 (6.30 MB/s) - ‘islands10.txt.3’ saved [98985/98985]\n",
            "\n",
            "--2024-04-27 10:32:11--  https://raw.githubusercontent.com/componavt/topkar-space/main/wd_compare/lake_query.txt\n",
            "Resolving raw.githubusercontent.com (raw.githubusercontent.com)... 185.199.109.133, 185.199.110.133, 185.199.111.133, ...\n",
            "Connecting to raw.githubusercontent.com (raw.githubusercontent.com)|185.199.109.133|:443... connected.\n",
            "HTTP request sent, awaiting response... 200 OK\n",
            "Length: 48424 (47K) [text/plain]\n",
            "Saving to: ‘lake_query.txt.3’\n",
            "\n",
            "lake_query.txt.3    100%[===================>]  47.29K  --.-KB/s    in 0.01s   \n",
            "\n",
            "2024-04-27 10:32:11 (4.08 MB/s) - ‘lake_query.txt.3’ saved [48424/48424]\n",
            "\n",
            "--2024-04-27 10:32:11--  https://raw.githubusercontent.com/componavt/topkar-space/main/wd_compare/lakes10.txt\n",
            "Resolving raw.githubusercontent.com (raw.githubusercontent.com)... 185.199.108.133, 185.199.109.133, 185.199.110.133, ...\n",
            "Connecting to raw.githubusercontent.com (raw.githubusercontent.com)|185.199.108.133|:443... connected.\n",
            "HTTP request sent, awaiting response... 200 OK\n",
            "Length: 158678 (155K) [text/plain]\n",
            "Saving to: ‘lakes10.txt.3’\n",
            "\n",
            "lakes10.txt.3       100%[===================>] 154.96K  --.-KB/s    in 0.02s   \n",
            "\n",
            "2024-04-27 10:32:11 (6.14 MB/s) - ‘lakes10.txt.3’ saved [158678/158678]\n",
            "\n",
            "--2024-04-27 10:32:11--  https://raw.githubusercontent.com/componavt/topkar-space/main/wd_compare/island_q.txt\n",
            "Resolving raw.githubusercontent.com (raw.githubusercontent.com)... 185.199.108.133, 185.199.109.133, 185.199.110.133, ...\n",
            "Connecting to raw.githubusercontent.com (raw.githubusercontent.com)|185.199.108.133|:443... connected.\n",
            "HTTP request sent, awaiting response... 200 OK\n",
            "Length: 6097 (6.0K) [text/plain]\n",
            "Saving to: ‘island_q.txt.3’\n",
            "\n",
            "island_q.txt.3      100%[===================>]   5.95K  --.-KB/s    in 0s      \n",
            "\n",
            "2024-04-27 10:32:11 (62.9 MB/s) - ‘island_q.txt.3’ saved [6097/6097]\n",
            "\n",
            "--2024-04-27 10:32:11--  https://raw.githubusercontent.com/componavt/topkar-space/main/key/winged-complex-421609-672350f9d66f.json\n",
            "Resolving raw.githubusercontent.com (raw.githubusercontent.com)... 185.199.111.133, 185.199.110.133, 185.199.109.133, ...\n",
            "Connecting to raw.githubusercontent.com (raw.githubusercontent.com)|185.199.111.133|:443... connected.\n",
            "HTTP request sent, awaiting response... 200 OK\n",
            "Length: 2375 (2.3K) [text/plain]\n",
            "Saving to: ‘winged-complex-421609-672350f9d66f.json’\n",
            "\n",
            "winged-complex-4216 100%[===================>]   2.32K  --.-KB/s    in 0s      \n",
            "\n",
            "2024-04-27 10:32:12 (14.6 MB/s) - ‘winged-complex-421609-672350f9d66f.json’ saved [2375/2375]\n",
            "\n"
          ]
        }
      ]
    },
    {
      "cell_type": "code",
      "source": [
        "def find_shared_elements(file1, file2, parametr):\n",
        "  start_time = time.time()\n",
        "  f2 = open(file1, 'r', encoding='utf-8')\n",
        "  f1 = open(file2, 'r',encoding='utf-8')\n",
        "\n",
        "  file1 = [line.strip().split('\t') for line in f1]\n",
        "  file2 = [line.strip().split('\t') for line in f2]\n",
        "\n",
        "\n",
        "  c,c2 = [],[] #лист для записи данных с Wikidata и Топкар соответственно\n",
        "  for i in file2:\n",
        "    for j in file1:\n",
        "      if SequenceMatcher(None,i[1],j[1]).ratio() > parametr:\n",
        "        c.append(i)\n",
        "        c2.append(j)\n",
        "\n",
        "\n",
        "  final = list(zip(c,c2))#лист с парами данных Wikidata/Топкар\n",
        "  print(c)\n",
        "  print(len(c))\n",
        "\n",
        "  f1.close()\n",
        "  f2.close()\n",
        "  print(\"--- %s seconds ---\" % (time.time() - start_time))\n",
        "  return(final)"
      ],
      "metadata": {
        "id": "EayKaUOB8he0"
      },
      "execution_count": null,
      "outputs": []
    },
    {
      "cell_type": "code",
      "source": [
        "from ctypes import sizeof\n",
        "def find_shared_elements_jf(file1, file2,parametr):\n",
        "  start_time = time.time()\n",
        "  f2 = open(file1, 'r', encoding='utf-8')\n",
        "  f1 = open(file2, 'r',encoding='utf-8')\n",
        "\n",
        "  file1 = [line.strip().split('\t') for line in f1]\n",
        "  file2 = [line.strip().split('\t') for line in f2]\n",
        "\n",
        "\n",
        "  c,c2,c3 = [],[],[]#лист для записи данных с Wikidata и Топкар соответственно\n",
        "  for i in file2:\n",
        "    for j in file1:\n",
        "      lev = jf.levenshtein_distance(i[1],j[1])\n",
        "      if lev < parametr:\n",
        "        c.append(i)\n",
        "        c2.append(j)\n",
        "        c3.append(lev)\n",
        "\n",
        "  final = list(zip(c,c2,c3))#лист с парами данных Wikidata/Топкар\n",
        "  print(final)\n",
        "\n",
        "  f1.close()\n",
        "  f2.close()\n",
        "  print(\"--- %s seconds ---\" % (time.time() - start_time))\n",
        "  return(final,c,c2)"
      ],
      "metadata": {
        "id": "TGU_O7-lNoM1"
      },
      "execution_count": null,
      "outputs": []
    },
    {
      "cell_type": "markdown",
      "source": [
        "Функция открывает два файла (file1 и file2) для чтения и считывает их содержимое. Затем она разделяет каждую строку на элементы, используя разделитель '  ', и сохраняет результат в виде списка списков.\n",
        "\n",
        "Далее функция проходит через каждую пару элементов из file2 и file1 и вычисляет расстояние Левенштейна между вторыми элементами каждой пары (i[1] и j[1]). Если расстояние меньше заданного значения parametr, то эта пара добавляется в соответствующие списки c, c2 и c3.\n",
        "\n",
        "Затем функция создает список final, объединяя списки c, c2 и c3 в кортежи. После этого она выводит final на экран.\n",
        "\n"
      ],
      "metadata": {
        "id": "ZAgz0MeSoSaV"
      }
    },
    {
      "cell_type": "code",
      "source": [
        "# c1 = find_shared_elements('island_q.txt', 'islands10.txt', 0.9)\n",
        "resived,c,c2 = find_shared_elements_jf('island_q.txt', 'islands10.txt', 2)\n",
        "\n",
        "nodes = c+c2 #Все обекты из Wikidata и Топкар\n",
        "# print(len(nodes))\n",
        "sorted_nodes = [list(x) for x in set(tuple(x) for x in nodes)] #Удаляем дубликаты\n",
        "# print(len(sorted_nodes))\n",
        "def write_nodes_to_csv(c1, filename):\n",
        "    with open(filename, 'w', newline='',encoding='utf-8') as csvfile:\n",
        "        header = ['Id', 'Label', 'Whereform']\n",
        "        # header = ['Id', 'Label']\n",
        "        csvwriter = csv.writer(csvfile)\n",
        "        csvwriter.writerow(header)\n",
        "        for row in c1:\n",
        "            print(row)\n",
        "            if row[0][0] == 'h':\n",
        "              row.append(\"wiki\")\n",
        "              csvwriter.writerow(row)\n",
        "            else:\n",
        "              row.append(\"topkar\")\n",
        "              csvwriter.writerow(row)\n",
        "\n",
        "def write_edges_to_csv(c1, filename):\n",
        "    with open(filename, 'w', newline='',encoding='utf-8') as csvfile:\n",
        "        header = ['Source', 'Target', 'Weight']\n",
        "        csvwriter = csv.writer(csvfile)\n",
        "        csvwriter.writerow(header)\n",
        "        for row in c1:\n",
        "          # if row[2]>0:\n",
        "            print(row)\n",
        "            out = [row[0][0],row[1][0], row[2]+1]\n",
        "            csvwriter.writerow(out)\n",
        "\n",
        "\n",
        "filename_nodes = 'output_n.csv'\n",
        "filename_edges = 'output_e.csv'\n",
        "write_nodes_to_csv(sorted_nodes, filename_nodes) #создаём файл с вершинами гафа\n",
        "write_edges_to_csv(resived, filename_edges) #создаём файл с рёбрами графа\n"
      ],
      "metadata": {
        "id": "tiSKl3jaOFEC",
        "outputId": "a77233b6-4ba7-48c9-d009-8af48e12f642",
        "colab": {
          "base_uri": "https://localhost:8080/"
        }
      },
      "execution_count": null,
      "outputs": [
        {
          "output_type": "stream",
          "name": "stdout",
          "text": [
            "[(['http://www.wikidata.org/entity/Q4212426', 'Канзанаволок'], ['39093', 'Канзанаволок']), (['http://www.wikidata.org/entity/Q4230532', 'Кондостров'], ['13958', 'Кондостров']), (['http://www.wikidata.org/entity/Q4230532', 'Кондостров'], ['16102', 'Кондостров']), (['http://www.wikidata.org/entity/Q4230532', 'Кондостров'], ['22970', 'Колдостров']), (['http://www.wikidata.org/entity/Q4234186', 'Корписари'], ['55705', 'Корбисари']), (['http://www.wikidata.org/entity/Q4259162', 'Лепостров'], ['450', 'Лапостров']), (['http://www.wikidata.org/entity/Q4259162', 'Лепостров'], ['6459', 'Лехостров']), (['http://www.wikidata.org/entity/Q4259162', 'Лепостров'], ['7983', 'Лапостров']), (['http://www.wikidata.org/entity/Q4259162', 'Лепостров'], ['14445', 'Лехостров']), (['http://www.wikidata.org/entity/Q4259162', 'Лепостров'], ['15388', 'Липостров']), (['http://www.wikidata.org/entity/Q4259162', 'Лепостров'], ['17279', 'Лехостров']), (['http://www.wikidata.org/entity/Q4259162', 'Лепостров'], ['20470', 'Ледостров']), (['http://www.wikidata.org/entity/Q4259162', 'Лепостров'], ['46293', 'Лехостров']), (['http://www.wikidata.org/entity/Q18400050', 'Крестовый'], ['54467', 'Крестовый']), (['http://www.wikidata.org/entity/Q18400052', 'Крестовый'], ['54467', 'Крестовый']), (['http://www.wikidata.org/entity/Q18662955', 'Святой остров'], ['1831', 'Святой остров']), (['http://www.wikidata.org/entity/Q19909173', 'Южный Олений остров'], ['8691', 'Южный Олений остров']), (['http://www.wikidata.org/entity/Q37909684', 'Кишкин'], ['35227', 'Кошкин']), (['http://www.wikidata.org/entity/Q4527392', 'Шуйостров'], ['41908', 'Шуйостров']), (['http://www.wikidata.org/entity/Q205244', 'Кижи'], ['8958', 'Кижи']), (['http://www.wikidata.org/entity/Q109437159', 'Лычный'], ['8473', 'Лычные']), (['http://www.wikidata.org/entity/Q109437159', 'Лычный'], ['8473', 'Лычный']), (['http://www.wikidata.org/entity/Q109437159', 'Лычный'], ['50673', 'Лычный']), (['http://www.wikidata.org/entity/Q4394504', 'Риеккалансаари'], ['41198', 'Риеккалансари']), (['http://www.wikidata.org/entity/Q4497276', 'Хепосаари'], ['45475', 'Хепосари']), (['http://www.wikidata.org/entity/Q4497276', 'Хепосаари'], ['51926', 'Хепосари']), (['http://www.wikidata.org/entity/Q16701500', 'Средний'], ['7897', 'Средний']), (['http://www.wikidata.org/entity/Q16701500', 'Средний'], ['54468', 'Средний']), (['http://www.wikidata.org/entity/Q16701500', 'Средний'], ['55802', 'Средний']), (['http://www.wikidata.org/entity/Q19908207', 'Хонкасало'], ['45476', 'Хонкасало']), (['http://www.wikidata.org/entity/Q19908207', 'Хонкасало'], ['51927', 'Хонкасало']), (['http://www.wikidata.org/entity/Q37906401', 'Брусно'], ['29141', 'Брусно']), (['http://www.wikidata.org/entity/Q37906401', 'Брусно'], ['40378', 'Брусно']), (['http://www.wikidata.org/entity/Q37912816', 'Мягостров'], ['6463', 'Мягостров']), (['http://www.wikidata.org/entity/Q37912816', 'Мягостров'], ['7689', 'Мягостров']), (['http://www.wikidata.org/entity/Q37912816', 'Мягостров'], ['14477', 'Тягостров']), (['http://www.wikidata.org/entity/Q37912816', 'Мягостров'], ['15029', 'Мягостров']), (['http://www.wikidata.org/entity/Q18405933', 'Никольский остров'], ['10627', 'Никольский остров']), (['http://www.wikidata.org/entity/Q114423967', 'Выгостров'], ['43536', 'Выгостров'])]\n",
            "--- 1.5566248893737793 seconds ---\n",
            "['http://www.wikidata.org/entity/Q18662955', 'Святой остров']\n",
            "['http://www.wikidata.org/entity/Q19908207', 'Хонкасало']\n",
            "['45475', 'Хепосари']\n",
            "['http://www.wikidata.org/entity/Q4259162', 'Лепостров']\n",
            "['14445', 'Лехостров']\n",
            "['15388', 'Липостров']\n",
            "['7983', 'Лапостров']\n",
            "['39093', 'Канзанаволок']\n",
            "['15029', 'Мягостров']\n",
            "['51927', 'Хонкасало']\n",
            "['http://www.wikidata.org/entity/Q205244', 'Кижи']\n",
            "['13958', 'Кондостров']\n",
            "['46293', 'Лехостров']\n",
            "['40378', 'Брусно']\n",
            "['http://www.wikidata.org/entity/Q18405933', 'Никольский остров']\n",
            "['54468', 'Средний']\n",
            "['43536', 'Выгостров']\n",
            "['14477', 'Тягостров']\n",
            "['http://www.wikidata.org/entity/Q4394504', 'Риеккалансаари']\n",
            "['1831', 'Святой остров']\n",
            "['7897', 'Средний']\n",
            "['20470', 'Ледостров']\n",
            "['http://www.wikidata.org/entity/Q109437159', 'Лычный']\n",
            "['6459', 'Лехостров']\n",
            "['8473', 'Лычные']\n",
            "['http://www.wikidata.org/entity/Q18400052', 'Крестовый']\n",
            "['http://www.wikidata.org/entity/Q4234186', 'Корписари']\n",
            "['8958', 'Кижи']\n",
            "['16102', 'Кондостров']\n",
            "['450', 'Лапостров']\n",
            "['41198', 'Риеккалансари']\n",
            "['10627', 'Никольский остров']\n",
            "['22970', 'Колдостров']\n",
            "['8691', 'Южный Олений остров']\n",
            "['17279', 'Лехостров']\n",
            "['6463', 'Мягостров']\n",
            "['http://www.wikidata.org/entity/Q4527392', 'Шуйостров']\n",
            "['http://www.wikidata.org/entity/Q37906401', 'Брусно']\n",
            "['http://www.wikidata.org/entity/Q16701500', 'Средний']\n",
            "['54467', 'Крестовый']\n",
            "['55705', 'Корбисари']\n",
            "['50673', 'Лычный']\n",
            "['45476', 'Хонкасало']\n",
            "['51926', 'Хепосари']\n",
            "['29141', 'Брусно']\n",
            "['http://www.wikidata.org/entity/Q37912816', 'Мягостров']\n",
            "['http://www.wikidata.org/entity/Q18400050', 'Крестовый']\n",
            "['55802', 'Средний']\n",
            "['7689', 'Мягостров']\n",
            "['8473', 'Лычный']\n",
            "['http://www.wikidata.org/entity/Q4212426', 'Канзанаволок']\n",
            "['http://www.wikidata.org/entity/Q19909173', 'Южный Олений остров']\n",
            "['http://www.wikidata.org/entity/Q4497276', 'Хепосаари']\n",
            "['41908', 'Шуйостров']\n",
            "['35227', 'Кошкин']\n",
            "['http://www.wikidata.org/entity/Q4230532', 'Кондостров']\n",
            "['http://www.wikidata.org/entity/Q114423967', 'Выгостров']\n",
            "['http://www.wikidata.org/entity/Q37909684', 'Кишкин']\n",
            "(['http://www.wikidata.org/entity/Q4212426', 'Канзанаволок'], ['39093', 'Канзанаволок'])\n",
            "(['http://www.wikidata.org/entity/Q4230532', 'Кондостров'], ['13958', 'Кондостров'])\n",
            "(['http://www.wikidata.org/entity/Q4230532', 'Кондостров'], ['16102', 'Кондостров'])\n",
            "(['http://www.wikidata.org/entity/Q4230532', 'Кондостров'], ['22970', 'Колдостров'])\n",
            "(['http://www.wikidata.org/entity/Q4234186', 'Корписари'], ['55705', 'Корбисари'])\n",
            "(['http://www.wikidata.org/entity/Q4259162', 'Лепостров'], ['450', 'Лапостров'])\n",
            "(['http://www.wikidata.org/entity/Q4259162', 'Лепостров'], ['6459', 'Лехостров'])\n",
            "(['http://www.wikidata.org/entity/Q4259162', 'Лепостров'], ['7983', 'Лапостров'])\n",
            "(['http://www.wikidata.org/entity/Q4259162', 'Лепостров'], ['14445', 'Лехостров'])\n",
            "(['http://www.wikidata.org/entity/Q4259162', 'Лепостров'], ['15388', 'Липостров'])\n",
            "(['http://www.wikidata.org/entity/Q4259162', 'Лепостров'], ['17279', 'Лехостров'])\n",
            "(['http://www.wikidata.org/entity/Q4259162', 'Лепостров'], ['20470', 'Ледостров'])\n",
            "(['http://www.wikidata.org/entity/Q4259162', 'Лепостров'], ['46293', 'Лехостров'])\n",
            "(['http://www.wikidata.org/entity/Q18400050', 'Крестовый'], ['54467', 'Крестовый'])\n",
            "(['http://www.wikidata.org/entity/Q18400052', 'Крестовый'], ['54467', 'Крестовый'])\n",
            "(['http://www.wikidata.org/entity/Q18662955', 'Святой остров'], ['1831', 'Святой остров'])\n",
            "(['http://www.wikidata.org/entity/Q19909173', 'Южный Олений остров'], ['8691', 'Южный Олений остров'])\n",
            "(['http://www.wikidata.org/entity/Q37909684', 'Кишкин'], ['35227', 'Кошкин'])\n",
            "(['http://www.wikidata.org/entity/Q4527392', 'Шуйостров'], ['41908', 'Шуйостров'])\n",
            "(['http://www.wikidata.org/entity/Q205244', 'Кижи'], ['8958', 'Кижи'])\n",
            "(['http://www.wikidata.org/entity/Q109437159', 'Лычный'], ['8473', 'Лычные'])\n",
            "(['http://www.wikidata.org/entity/Q109437159', 'Лычный'], ['8473', 'Лычный'])\n",
            "(['http://www.wikidata.org/entity/Q109437159', 'Лычный'], ['50673', 'Лычный'])\n",
            "(['http://www.wikidata.org/entity/Q4394504', 'Риеккалансаари'], ['41198', 'Риеккалансари'])\n",
            "(['http://www.wikidata.org/entity/Q4497276', 'Хепосаари'], ['45475', 'Хепосари'])\n",
            "(['http://www.wikidata.org/entity/Q4497276', 'Хепосаари'], ['51926', 'Хепосари'])\n",
            "(['http://www.wikidata.org/entity/Q16701500', 'Средний'], ['7897', 'Средний'])\n",
            "(['http://www.wikidata.org/entity/Q16701500', 'Средний'], ['54468', 'Средний'])\n",
            "(['http://www.wikidata.org/entity/Q16701500', 'Средний'], ['55802', 'Средний'])\n",
            "(['http://www.wikidata.org/entity/Q19908207', 'Хонкасало'], ['45476', 'Хонкасало'])\n",
            "(['http://www.wikidata.org/entity/Q19908207', 'Хонкасало'], ['51927', 'Хонкасало'])\n",
            "(['http://www.wikidata.org/entity/Q37906401', 'Брусно'], ['29141', 'Брусно'])\n",
            "(['http://www.wikidata.org/entity/Q37906401', 'Брусно'], ['40378', 'Брусно'])\n",
            "(['http://www.wikidata.org/entity/Q37912816', 'Мягостров'], ['6463', 'Мягостров'])\n",
            "(['http://www.wikidata.org/entity/Q37912816', 'Мягостров'], ['7689', 'Мягостров'])\n",
            "(['http://www.wikidata.org/entity/Q37912816', 'Мягостров'], ['14477', 'Тягостров'])\n",
            "(['http://www.wikidata.org/entity/Q37912816', 'Мягостров'], ['15029', 'Мягостров'])\n",
            "(['http://www.wikidata.org/entity/Q18405933', 'Никольский остров'], ['10627', 'Никольский остров'])\n",
            "(['http://www.wikidata.org/entity/Q114423967', 'Выгостров'], ['43536', 'Выгостров'])\n"
          ]
        }
      ]
    },
    {
      "cell_type": "markdown",
      "source": [
        " Вызывается функция find_shared_elements_jf с указанными аргументами имён файлов и параметра\n",
        "\n",
        " Создается список sorted_nodes, в котором удаляются дубликаты объектов.\n",
        "\n",
        " Определяются две функции: write_nodes_to_csv и write_edges_to_csv, которые будут использоваться для записи данных в CSV-файлы.\n",
        "\n",
        "  Функция write_nodes_to_csv записывает данные л вершинах графа из списка c1 в файл с именем filename в формате CSV, добавляя информацию о типе объекта (\"wiki\" или \"topkar\") в последний столбец в зависимости от значения первого элемента каждой строки.\n",
        "\n",
        "  Функция write_edges_to_csv записывает данные о рёбрах графа из списка c1 в файл с именем filename в формате CSV.\n",
        "\n",
        "  Наконец, вызываются функции write_nodes_to_csv и write_edges_to_csv, чтобы создать файлы с вершинами и ребрами графа"
      ],
      "metadata": {
        "id": "OpZ-131omCTU"
      }
    },
    {
      "cell_type": "code",
      "source": [
        "pp = pprint.PrettyPrinter(indent=4)\n",
        "\n",
        "SCOPES = ['https://www.googleapis.com/auth/drive']\n",
        "SERVICE_ACCOUNT_FILE = '/content/winged-complex-421609-672350f9d66f.json'\n",
        "credentials = service_account.Credentials.from_service_account_file(\n",
        "        SERVICE_ACCOUNT_FILE, scopes=SCOPES)\n",
        "service = build('drive', 'v3', credentials=credentials)\n",
        "\n",
        "\n",
        "folder_id = '1N5OznaW-E1wzuLAQXkAmtwuCXZEgBRLo'\n",
        "name = 'output_e.csv'\n",
        "file_path = '/content/output_e.csv'\n",
        "file_metadata = {\n",
        "                'name': name,\n",
        "                'parents': [folder_id]\n",
        "            }\n",
        "media = MediaFileUpload(file_path, resumable=True)\n",
        "r = service.files().create(body=file_metadata, media_body=media, fields='id').execute()\n",
        "\n",
        "folder_id = '1N5OznaW-E1wzuLAQXkAmtwuCXZEgBRLo'\n",
        "name = 'output_n.csv'\n",
        "file_metadata = {\n",
        "                'name': name,\n",
        "                'parents': [folder_id]\n",
        "            }\n",
        "file_path = '/content/output_n.csv'\n",
        "media = MediaFileUpload(file_path, resumable=True)\n",
        "r = service.files().create(body=file_metadata, media_body=media, fields='id').execute()\n",
        "\n",
        "\n",
        "pp.pprint(r)"
      ],
      "metadata": {
        "id": "0Gu2PlheGKH6",
        "outputId": "21855fb4-deea-4bc9-bd51-7a2f9becb723",
        "colab": {
          "base_uri": "https://localhost:8080/"
        }
      },
      "execution_count": null,
      "outputs": [
        {
          "output_type": "stream",
          "name": "stdout",
          "text": [
            "{'id': '1iZVkhveRQa6Om3vW5rjbP8sb8vR8_w1B'}\n"
          ]
        }
      ]
    },
    {
      "cell_type": "markdown",
      "source": [
        "Устанавливаем необходимые права доступа (SCOPES) и загружаем файл сервисного аккаунта (SERVICE_ACCOUNT_FILE).\n",
        "\n",
        "Создаем учетные данные (credentials) на основе файла сервисного аккаунта и указанных прав доступа.\n",
        "\n",
        "Определяем идентификатор папки (folder_id), имя файла (name), путь к файлу на локальной машине (file_path) и метаданные файла для первого файла.\n",
        "\n",
        "Загружаем первый файл на Google Drive с помощью метода files().create() с указанием метаданных и содержимого файла.\n",
        "\n",
        "Повторяем предыдущие два шага для второго файла"
      ],
      "metadata": {
        "id": "AuGRMy7jnvyP"
      }
    }
  ]
}
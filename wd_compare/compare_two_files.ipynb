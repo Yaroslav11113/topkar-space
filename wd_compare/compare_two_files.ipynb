{
  "nbformat": 4,
  "nbformat_minor": 0,
  "metadata": {
    "colab": {
      "provenance": [],
      "include_colab_link": true
    },
    "kernelspec": {
      "name": "python3",
      "display_name": "Python 3"
    },
    "language_info": {
      "name": "python"
    }
  },
  "cells": [
    {
      "cell_type": "markdown",
      "metadata": {
        "id": "view-in-github",
        "colab_type": "text"
      },
      "source": [
        "<a href=\"https://colab.research.google.com/github/componavt/topkar-space/blob/main/wd_compare/compare_two_files.ipynb\" target=\"_parent\"><img src=\"https://colab.research.google.com/assets/colab-badge.svg\" alt=\"Open In Colab\"/></a>"
      ]
    },
    {
      "cell_type": "code",
      "source": [
        "!pip install jellyfish\n",
        "!pip install --upgrade google-api-python-client"
      ],
      "metadata": {
        "id": "18u4HWDtEr-u",
        "outputId": "e75e5ba5-1615-4e92-9f52-e278ae54e9df",
        "colab": {
          "base_uri": "https://localhost:8080/"
        }
      },
      "execution_count": 5,
      "outputs": [
        {
          "output_type": "stream",
          "name": "stdout",
          "text": [
            "Requirement already satisfied: jellyfish in /usr/local/lib/python3.10/dist-packages (1.0.3)\n",
            "Requirement already satisfied: google-api-python-client in /usr/local/lib/python3.10/dist-packages (2.84.0)\n",
            "Collecting google-api-python-client\n",
            "  Downloading google_api_python_client-2.129.0-py2.py3-none-any.whl (11.6 MB)\n",
            "\u001b[2K     \u001b[90m━━━━━━━━━━━━━━━━━━━━━━━━━━━━━━━━━━━━━━━━\u001b[0m \u001b[32m11.6/11.6 MB\u001b[0m \u001b[31m36.7 MB/s\u001b[0m eta \u001b[36m0:00:00\u001b[0m\n",
            "\u001b[?25hRequirement already satisfied: httplib2<1.dev0,>=0.19.0 in /usr/local/lib/python3.10/dist-packages (from google-api-python-client) (0.22.0)\n",
            "Requirement already satisfied: google-auth!=2.24.0,!=2.25.0,<3.0.0.dev0,>=1.32.0 in /usr/local/lib/python3.10/dist-packages (from google-api-python-client) (2.27.0)\n",
            "Collecting google-auth-httplib2<1.0.0,>=0.2.0 (from google-api-python-client)\n",
            "  Downloading google_auth_httplib2-0.2.0-py2.py3-none-any.whl (9.3 kB)\n",
            "Requirement already satisfied: google-api-core!=2.0.*,!=2.1.*,!=2.2.*,!=2.3.0,<3.0.0.dev0,>=1.31.5 in /usr/local/lib/python3.10/dist-packages (from google-api-python-client) (2.11.1)\n",
            "Requirement already satisfied: uritemplate<5,>=3.0.1 in /usr/local/lib/python3.10/dist-packages (from google-api-python-client) (4.1.1)\n",
            "Requirement already satisfied: googleapis-common-protos<2.0.dev0,>=1.56.2 in /usr/local/lib/python3.10/dist-packages (from google-api-core!=2.0.*,!=2.1.*,!=2.2.*,!=2.3.0,<3.0.0.dev0,>=1.31.5->google-api-python-client) (1.63.0)\n",
            "Requirement already satisfied: protobuf!=3.20.0,!=3.20.1,!=4.21.0,!=4.21.1,!=4.21.2,!=4.21.3,!=4.21.4,!=4.21.5,<5.0.0.dev0,>=3.19.5 in /usr/local/lib/python3.10/dist-packages (from google-api-core!=2.0.*,!=2.1.*,!=2.2.*,!=2.3.0,<3.0.0.dev0,>=1.31.5->google-api-python-client) (3.20.3)\n",
            "Requirement already satisfied: requests<3.0.0.dev0,>=2.18.0 in /usr/local/lib/python3.10/dist-packages (from google-api-core!=2.0.*,!=2.1.*,!=2.2.*,!=2.3.0,<3.0.0.dev0,>=1.31.5->google-api-python-client) (2.31.0)\n",
            "Requirement already satisfied: cachetools<6.0,>=2.0.0 in /usr/local/lib/python3.10/dist-packages (from google-auth!=2.24.0,!=2.25.0,<3.0.0.dev0,>=1.32.0->google-api-python-client) (5.3.3)\n",
            "Requirement already satisfied: pyasn1-modules>=0.2.1 in /usr/local/lib/python3.10/dist-packages (from google-auth!=2.24.0,!=2.25.0,<3.0.0.dev0,>=1.32.0->google-api-python-client) (0.4.0)\n",
            "Requirement already satisfied: rsa<5,>=3.1.4 in /usr/local/lib/python3.10/dist-packages (from google-auth!=2.24.0,!=2.25.0,<3.0.0.dev0,>=1.32.0->google-api-python-client) (4.9)\n",
            "Requirement already satisfied: pyparsing!=3.0.0,!=3.0.1,!=3.0.2,!=3.0.3,<4,>=2.4.2 in /usr/local/lib/python3.10/dist-packages (from httplib2<1.dev0,>=0.19.0->google-api-python-client) (3.1.2)\n",
            "Requirement already satisfied: pyasn1<0.7.0,>=0.4.6 in /usr/local/lib/python3.10/dist-packages (from pyasn1-modules>=0.2.1->google-auth!=2.24.0,!=2.25.0,<3.0.0.dev0,>=1.32.0->google-api-python-client) (0.6.0)\n",
            "Requirement already satisfied: charset-normalizer<4,>=2 in /usr/local/lib/python3.10/dist-packages (from requests<3.0.0.dev0,>=2.18.0->google-api-core!=2.0.*,!=2.1.*,!=2.2.*,!=2.3.0,<3.0.0.dev0,>=1.31.5->google-api-python-client) (3.3.2)\n",
            "Requirement already satisfied: idna<4,>=2.5 in /usr/local/lib/python3.10/dist-packages (from requests<3.0.0.dev0,>=2.18.0->google-api-core!=2.0.*,!=2.1.*,!=2.2.*,!=2.3.0,<3.0.0.dev0,>=1.31.5->google-api-python-client) (3.7)\n",
            "Requirement already satisfied: urllib3<3,>=1.21.1 in /usr/local/lib/python3.10/dist-packages (from requests<3.0.0.dev0,>=2.18.0->google-api-core!=2.0.*,!=2.1.*,!=2.2.*,!=2.3.0,<3.0.0.dev0,>=1.31.5->google-api-python-client) (2.0.7)\n",
            "Requirement already satisfied: certifi>=2017.4.17 in /usr/local/lib/python3.10/dist-packages (from requests<3.0.0.dev0,>=2.18.0->google-api-core!=2.0.*,!=2.1.*,!=2.2.*,!=2.3.0,<3.0.0.dev0,>=1.31.5->google-api-python-client) (2024.2.2)\n",
            "Installing collected packages: google-auth-httplib2, google-api-python-client\n",
            "  Attempting uninstall: google-auth-httplib2\n",
            "    Found existing installation: google-auth-httplib2 0.1.1\n",
            "    Uninstalling google-auth-httplib2-0.1.1:\n",
            "      Successfully uninstalled google-auth-httplib2-0.1.1\n",
            "  Attempting uninstall: google-api-python-client\n",
            "    Found existing installation: google-api-python-client 2.84.0\n",
            "    Uninstalling google-api-python-client-2.84.0:\n",
            "      Successfully uninstalled google-api-python-client-2.84.0\n",
            "Successfully installed google-api-python-client-2.129.0 google-auth-httplib2-0.2.0\n"
          ]
        }
      ]
    },
    {
      "cell_type": "code",
      "execution_count": 6,
      "metadata": {
        "id": "kwB0A9Gh8H3-"
      },
      "outputs": [],
      "source": [
        "from itertools import chain\n",
        "from difflib import SequenceMatcher\n",
        "from ctypes import sizeof\n",
        "import time\n",
        "import jellyfish as jf\n",
        "from google.oauth2 import service_account\n",
        "from googleapiclient.http import MediaIoBaseDownload,MediaFileUpload\n",
        "from googleapiclient.discovery import build\n",
        "import pprint\n",
        "import io\n",
        "import csv\n"
      ]
    },
    {
      "cell_type": "code",
      "source": [
        "#!wget https://github.com/componavt/topkar-space/raw/master/wd_compare/island_query.txt\n",
        "!wget https://raw.githubusercontent.com/componavt/topkar-space/main/wd_compare/island_query.txt\n",
        "# cat island_query.txt\n",
        "\n",
        "!wget https://raw.githubusercontent.com/componavt/topkar-space/main/wd_compare/islands10.txt\n",
        "\n",
        "!wget https://raw.githubusercontent.com/componavt/topkar-space/main/wd_compare/lake_query.txt\n",
        "!wget https://raw.githubusercontent.com/componavt/topkar-space/main/wd_compare/lakes10.txt\n",
        "!wget https://raw.githubusercontent.com/componavt/topkar-space/main/wd_compare/island_q.txt\n",
        "!wget https://raw.githubusercontent.com/componavt/topkar-space/main/key/winged-complex-421609-672350f9d66f.json"
      ],
      "metadata": {
        "id": "QKJ0B2xqilKO",
        "outputId": "2a8d52aa-4206-4fbc-bce9-fc4446d03750",
        "colab": {
          "base_uri": "https://localhost:8080/"
        }
      },
      "execution_count": 7,
      "outputs": [
        {
          "output_type": "stream",
          "name": "stdout",
          "text": [
            "--2024-05-20 03:06:21--  https://raw.githubusercontent.com/componavt/topkar-space/main/wd_compare/island_query.txt\n",
            "Resolving raw.githubusercontent.com (raw.githubusercontent.com)... 185.199.108.133, 185.199.109.133, 185.199.110.133, ...\n",
            "Connecting to raw.githubusercontent.com (raw.githubusercontent.com)|185.199.108.133|:443... connected.\n",
            "HTTP request sent, awaiting response... 200 OK\n",
            "Length: 2164 (2.1K) [text/plain]\n",
            "Saving to: ‘island_query.txt’\n",
            "\n",
            "\risland_query.txt      0%[                    ]       0  --.-KB/s               \risland_query.txt    100%[===================>]   2.11K  --.-KB/s    in 0s      \n",
            "\n",
            "2024-05-20 03:06:21 (24.1 MB/s) - ‘island_query.txt’ saved [2164/2164]\n",
            "\n",
            "--2024-05-20 03:06:21--  https://raw.githubusercontent.com/componavt/topkar-space/main/wd_compare/islands10.txt\n",
            "Resolving raw.githubusercontent.com (raw.githubusercontent.com)... 185.199.108.133, 185.199.109.133, 185.199.110.133, ...\n",
            "Connecting to raw.githubusercontent.com (raw.githubusercontent.com)|185.199.108.133|:443... connected.\n",
            "HTTP request sent, awaiting response... 200 OK\n",
            "Length: 98985 (97K) [text/plain]\n",
            "Saving to: ‘islands10.txt’\n",
            "\n",
            "islands10.txt       100%[===================>]  96.67K  --.-KB/s    in 0.01s   \n",
            "\n",
            "2024-05-20 03:06:22 (7.38 MB/s) - ‘islands10.txt’ saved [98985/98985]\n",
            "\n",
            "--2024-05-20 03:06:22--  https://raw.githubusercontent.com/componavt/topkar-space/main/wd_compare/lake_query.txt\n",
            "Resolving raw.githubusercontent.com (raw.githubusercontent.com)... 185.199.108.133, 185.199.109.133, 185.199.110.133, ...\n",
            "Connecting to raw.githubusercontent.com (raw.githubusercontent.com)|185.199.108.133|:443... connected.\n",
            "HTTP request sent, awaiting response... 200 OK\n",
            "Length: 48424 (47K) [text/plain]\n",
            "Saving to: ‘lake_query.txt’\n",
            "\n",
            "lake_query.txt      100%[===================>]  47.29K  --.-KB/s    in 0.008s  \n",
            "\n",
            "2024-05-20 03:06:22 (5.58 MB/s) - ‘lake_query.txt’ saved [48424/48424]\n",
            "\n",
            "--2024-05-20 03:06:22--  https://raw.githubusercontent.com/componavt/topkar-space/main/wd_compare/lakes10.txt\n",
            "Resolving raw.githubusercontent.com (raw.githubusercontent.com)... 185.199.108.133, 185.199.109.133, 185.199.110.133, ...\n",
            "Connecting to raw.githubusercontent.com (raw.githubusercontent.com)|185.199.108.133|:443... connected.\n",
            "HTTP request sent, awaiting response... 200 OK\n",
            "Length: 158678 (155K) [text/plain]\n",
            "Saving to: ‘lakes10.txt’\n",
            "\n",
            "lakes10.txt         100%[===================>] 154.96K  --.-KB/s    in 0.02s   \n",
            "\n",
            "2024-05-20 03:06:22 (7.36 MB/s) - ‘lakes10.txt’ saved [158678/158678]\n",
            "\n",
            "--2024-05-20 03:06:22--  https://raw.githubusercontent.com/componavt/topkar-space/main/wd_compare/island_q.txt\n",
            "Resolving raw.githubusercontent.com (raw.githubusercontent.com)... 185.199.108.133, 185.199.109.133, 185.199.110.133, ...\n",
            "Connecting to raw.githubusercontent.com (raw.githubusercontent.com)|185.199.108.133|:443... connected.\n",
            "HTTP request sent, awaiting response... 200 OK\n",
            "Length: 6097 (6.0K) [text/plain]\n",
            "Saving to: ‘island_q.txt’\n",
            "\n",
            "island_q.txt        100%[===================>]   5.95K  --.-KB/s    in 0s      \n",
            "\n",
            "2024-05-20 03:06:22 (61.7 MB/s) - ‘island_q.txt’ saved [6097/6097]\n",
            "\n",
            "--2024-05-20 03:06:22--  https://raw.githubusercontent.com/componavt/topkar-space/main/key/winged-complex-421609-672350f9d66f.json\n",
            "Resolving raw.githubusercontent.com (raw.githubusercontent.com)... 185.199.111.133, 185.199.109.133, 185.199.110.133, ...\n",
            "Connecting to raw.githubusercontent.com (raw.githubusercontent.com)|185.199.111.133|:443... connected.\n",
            "HTTP request sent, awaiting response... 200 OK\n",
            "Length: 2375 (2.3K) [text/plain]\n",
            "Saving to: ‘winged-complex-421609-672350f9d66f.json’\n",
            "\n",
            "winged-complex-4216 100%[===================>]   2.32K  --.-KB/s    in 0s      \n",
            "\n",
            "2024-05-20 03:06:23 (36.0 MB/s) - ‘winged-complex-421609-672350f9d66f.json’ saved [2375/2375]\n",
            "\n"
          ]
        }
      ]
    },
    {
      "cell_type": "code",
      "source": [
        "def find_shared_elements(file1, file2, parametr):\n",
        "  start_time = time.time()\n",
        "  f2 = open(file1, 'r', encoding='utf-8')\n",
        "  f1 = open(file2, 'r',encoding='utf-8')\n",
        "\n",
        "  file1 = [line.strip().split('\t') for line in f1]\n",
        "  file2 = [line.strip().split('\t') for line in f2]\n",
        "\n",
        "\n",
        "  c,c2 = [],[] #лист для записи данных с Wikidata и Топкар соответственно\n",
        "  for i in file2:\n",
        "    for j in file1:\n",
        "      if SequenceMatcher(None,i[1],j[1]).ratio() > parametr:\n",
        "        c.append(i)\n",
        "        c2.append(j)\n",
        "\n",
        "\n",
        "  final = list(zip(c,c2))#лист с парами данных Wikidata/Топкар\n",
        "  print(c)\n",
        "  print(len(c))\n",
        "\n",
        "  f1.close()\n",
        "  f2.close()\n",
        "  print(\"--- %s seconds ---\" % (time.time() - start_time))\n",
        "  return(final)"
      ],
      "metadata": {
        "id": "EayKaUOB8he0"
      },
      "execution_count": 8,
      "outputs": []
    },
    {
      "cell_type": "code",
      "source": [
        "from ctypes import sizeof\n",
        "def find_shared_elements_jf(file1, file2,parametr):\n",
        "  start_time = time.time()\n",
        "  f2 = open(file1, 'r', encoding='utf-8')\n",
        "  f1 = open(file2, 'r',encoding='utf-8')\n",
        "\n",
        "  file1 = [line.strip().split('\t') for line in f1]\n",
        "  file2 = [line.strip().split('\t') for line in f2]\n",
        "\n",
        "\n",
        "  c,c2,c3 = [],[],[]#лист для записи данных с Wikidata и Топкар соответственно\n",
        "  for i in file2:\n",
        "    for j in file1:\n",
        "      lev = jf.levenshtein_distance(i[1],j[1])\n",
        "      if lev < parametr:\n",
        "        c.append(i)\n",
        "        c2.append(j)\n",
        "        c3.append(lev)\n",
        "\n",
        "  final = list(zip(c,c2,c3))#лист с парами данных Wikidata/Топкар\n",
        "  print(final)\n",
        "\n",
        "  f1.close()\n",
        "  f2.close()\n",
        "  print(\"--- %s seconds ---\" % (time.time() - start_time))\n",
        "  return(final,c,c2)"
      ],
      "metadata": {
        "id": "TGU_O7-lNoM1"
      },
      "execution_count": 9,
      "outputs": []
    },
    {
      "cell_type": "markdown",
      "source": [
        "Функция открывает два файла (file1 и file2) для чтения и считывает их содержимое. Затем она разделяет каждую строку на элементы, используя разделитель '  ', и сохраняет результат в виде списка списков.\n",
        "\n",
        "Далее функция проходит через каждую пару элементов из file2 и file1 и вычисляет расстояние Левенштейна между вторыми элементами каждой пары (i[1] и j[1]). Если расстояние меньше заданного значения parametr, то эта пара добавляется в соответствующие списки c, c2 и c3.\n",
        "\n",
        "Затем функция создает список final, объединяя списки c, c2 и c3 в кортежи. После этого она выводит final на экран.\n",
        "\n"
      ],
      "metadata": {
        "id": "ZAgz0MeSoSaV"
      }
    },
    {
      "cell_type": "code",
      "source": [
        "# c1 = find_shared_elements('island_q.txt', 'islands10.txt', 0.9)\n",
        "resived,c,c2 = find_shared_elements_jf('island_q.txt', 'islands10.txt', 2)\n",
        "\n",
        "nodes = c+c2 #Все обекты из Wikidata и Топкар\n",
        "# print(len(nodes))\n",
        "sorted_nodes = [list(x) for x in set(tuple(x) for x in nodes)] #Удаляем дубликаты\n",
        "# print(len(sorted_nodes))\n",
        "def write_nodes_to_csv(c1, filename):\n",
        "    with open(filename, 'w', newline='',encoding='utf-8') as csvfile:\n",
        "        header = ['Id', 'Label', 'Whereform']\n",
        "        # header = ['Id', 'Label']\n",
        "        csvwriter = csv.writer(csvfile)\n",
        "        csvwriter.writerow(header)\n",
        "        for row in c1:\n",
        "            print(row)\n",
        "            if row[0][0] == 'h':\n",
        "              row.append(\"wiki\")\n",
        "              csvwriter.writerow(row)\n",
        "            else:\n",
        "              row.append(\"topkar\")\n",
        "              csvwriter.writerow(row)\n",
        "\n",
        "def write_edges_to_csv(c1, filename):\n",
        "    with open(filename, 'w', newline='',encoding='utf-8') as csvfile:\n",
        "        header = ['Source', 'Target', 'Weight']\n",
        "        csvwriter = csv.writer(csvfile)\n",
        "        csvwriter.writerow(header)\n",
        "        for row in c1:\n",
        "          # if row[2]>0:\n",
        "            print(row)\n",
        "            out = [row[0][0],row[1][0], row[2]+1]\n",
        "            csvwriter.writerow(out)\n",
        "\n",
        "\n",
        "filename_nodes = 'output_n.csv'\n",
        "filename_edges = 'output_e.csv'\n",
        "write_nodes_to_csv(sorted_nodes, filename_nodes) #создаём файл с вершинами гафа\n",
        "write_edges_to_csv(resived, filename_edges) #создаём файл с рёбрами графа\n"
      ],
      "metadata": {
        "id": "tiSKl3jaOFEC",
        "outputId": "04ccc4a5-ac71-47f2-fb11-f2f2b9b15e9a",
        "colab": {
          "base_uri": "https://localhost:8080/"
        }
      },
      "execution_count": 10,
      "outputs": [
        {
          "output_type": "stream",
          "name": "stdout",
          "text": [
            "[(['http://www.wikidata.org/entity/Q4212426', 'Канзанаволок'], ['39093', 'Канзанаволок'], 0), (['http://www.wikidata.org/entity/Q4230532', 'Кондостров'], ['13958', 'Кондостров'], 0), (['http://www.wikidata.org/entity/Q4230532', 'Кондостров'], ['16102', 'Кондостров'], 0), (['http://www.wikidata.org/entity/Q4230532', 'Кондостров'], ['22970', 'Колдостров'], 1), (['http://www.wikidata.org/entity/Q4234186', 'Корписари'], ['55705', 'Корбисари'], 1), (['http://www.wikidata.org/entity/Q4259162', 'Лепостров'], ['450', 'Лапостров'], 1), (['http://www.wikidata.org/entity/Q4259162', 'Лепостров'], ['6459', 'Лехостров'], 1), (['http://www.wikidata.org/entity/Q4259162', 'Лепостров'], ['7983', 'Лапостров'], 1), (['http://www.wikidata.org/entity/Q4259162', 'Лепостров'], ['14445', 'Лехостров'], 1), (['http://www.wikidata.org/entity/Q4259162', 'Лепостров'], ['15388', 'Липостров'], 1), (['http://www.wikidata.org/entity/Q4259162', 'Лепостров'], ['17279', 'Лехостров'], 1), (['http://www.wikidata.org/entity/Q4259162', 'Лепостров'], ['20470', 'Ледостров'], 1), (['http://www.wikidata.org/entity/Q4259162', 'Лепостров'], ['46293', 'Лехостров'], 1), (['http://www.wikidata.org/entity/Q18400050', 'Крестовый'], ['54467', 'Крестовый'], 0), (['http://www.wikidata.org/entity/Q18400052', 'Крестовый'], ['54467', 'Крестовый'], 0), (['http://www.wikidata.org/entity/Q18662955', 'Святой остров'], ['1831', 'Святой остров'], 0), (['http://www.wikidata.org/entity/Q19909173', 'Южный Олений остров'], ['8691', 'Южный Олений остров'], 0), (['http://www.wikidata.org/entity/Q37909684', 'Кишкин'], ['35227', 'Кошкин'], 1), (['http://www.wikidata.org/entity/Q4527392', 'Шуйостров'], ['41908', 'Шуйостров'], 0), (['http://www.wikidata.org/entity/Q205244', 'Кижи'], ['8958', 'Кижи'], 0), (['http://www.wikidata.org/entity/Q109437159', 'Лычный'], ['8473', 'Лычные'], 1), (['http://www.wikidata.org/entity/Q109437159', 'Лычный'], ['8473', 'Лычный'], 0), (['http://www.wikidata.org/entity/Q109437159', 'Лычный'], ['50673', 'Лычный'], 0), (['http://www.wikidata.org/entity/Q4394504', 'Риеккалансаари'], ['41198', 'Риеккалансари'], 1), (['http://www.wikidata.org/entity/Q4497276', 'Хепосаари'], ['45475', 'Хепосари'], 1), (['http://www.wikidata.org/entity/Q4497276', 'Хепосаари'], ['51926', 'Хепосари'], 1), (['http://www.wikidata.org/entity/Q16701500', 'Средний'], ['7897', 'Средний'], 0), (['http://www.wikidata.org/entity/Q16701500', 'Средний'], ['54468', 'Средний'], 0), (['http://www.wikidata.org/entity/Q16701500', 'Средний'], ['55802', 'Средний'], 0), (['http://www.wikidata.org/entity/Q19908207', 'Хонкасало'], ['45476', 'Хонкасало'], 0), (['http://www.wikidata.org/entity/Q19908207', 'Хонкасало'], ['51927', 'Хонкасало'], 0), (['http://www.wikidata.org/entity/Q37906401', 'Брусно'], ['29141', 'Брусно'], 0), (['http://www.wikidata.org/entity/Q37906401', 'Брусно'], ['40378', 'Брусно'], 0), (['http://www.wikidata.org/entity/Q37912816', 'Мягостров'], ['6463', 'Мягостров'], 0), (['http://www.wikidata.org/entity/Q37912816', 'Мягостров'], ['7689', 'Мягостров'], 0), (['http://www.wikidata.org/entity/Q37912816', 'Мягостров'], ['14477', 'Тягостров'], 1), (['http://www.wikidata.org/entity/Q37912816', 'Мягостров'], ['15029', 'Мягостров'], 0), (['http://www.wikidata.org/entity/Q18405933', 'Никольский остров'], ['10627', 'Никольский остров'], 0), (['http://www.wikidata.org/entity/Q114423967', 'Выгостров'], ['43536', 'Выгостров'], 0)]\n",
            "--- 1.452230453491211 seconds ---\n",
            "['55705', 'Корбисари']\n",
            "['51927', 'Хонкасало']\n",
            "['http://www.wikidata.org/entity/Q205244', 'Кижи']\n",
            "['8473', 'Лычные']\n",
            "['http://www.wikidata.org/entity/Q4212426', 'Канзанаволок']\n",
            "['20470', 'Ледостров']\n",
            "['50673', 'Лычный']\n",
            "['http://www.wikidata.org/entity/Q18662955', 'Святой остров']\n",
            "['http://www.wikidata.org/entity/Q37909684', 'Кишкин']\n",
            "['http://www.wikidata.org/entity/Q4527392', 'Шуйостров']\n",
            "['http://www.wikidata.org/entity/Q4394504', 'Риеккалансаари']\n",
            "['16102', 'Кондостров']\n",
            "['45475', 'Хепосари']\n",
            "['http://www.wikidata.org/entity/Q109437159', 'Лычный']\n",
            "['51926', 'Хепосари']\n",
            "['43536', 'Выгостров']\n",
            "['54468', 'Средний']\n",
            "['7983', 'Лапостров']\n",
            "['41198', 'Риеккалансари']\n",
            "['6459', 'Лехостров']\n",
            "['45476', 'Хонкасало']\n",
            "['http://www.wikidata.org/entity/Q4234186', 'Корписари']\n",
            "['54467', 'Крестовый']\n",
            "['http://www.wikidata.org/entity/Q18400052', 'Крестовый']\n",
            "['8958', 'Кижи']\n",
            "['http://www.wikidata.org/entity/Q19908207', 'Хонкасало']\n",
            "['http://www.wikidata.org/entity/Q18400050', 'Крестовый']\n",
            "['14445', 'Лехостров']\n",
            "['55802', 'Средний']\n",
            "['8691', 'Южный Олений остров']\n",
            "['6463', 'Мягостров']\n",
            "['10627', 'Никольский остров']\n",
            "['http://www.wikidata.org/entity/Q4497276', 'Хепосаари']\n",
            "['http://www.wikidata.org/entity/Q19909173', 'Южный Олений остров']\n",
            "['46293', 'Лехостров']\n",
            "['15029', 'Мягостров']\n",
            "['1831', 'Святой остров']\n",
            "['http://www.wikidata.org/entity/Q16701500', 'Средний']\n",
            "['http://www.wikidata.org/entity/Q37906401', 'Брусно']\n",
            "['http://www.wikidata.org/entity/Q4230532', 'Кондостров']\n",
            "['15388', 'Липостров']\n",
            "['8473', 'Лычный']\n",
            "['17279', 'Лехостров']\n",
            "['29141', 'Брусно']\n",
            "['39093', 'Канзанаволок']\n",
            "['7897', 'Средний']\n",
            "['450', 'Лапостров']\n",
            "['http://www.wikidata.org/entity/Q114423967', 'Выгостров']\n",
            "['35227', 'Кошкин']\n",
            "['40378', 'Брусно']\n",
            "['http://www.wikidata.org/entity/Q18405933', 'Никольский остров']\n",
            "['http://www.wikidata.org/entity/Q4259162', 'Лепостров']\n",
            "['http://www.wikidata.org/entity/Q37912816', 'Мягостров']\n",
            "['13958', 'Кондостров']\n",
            "['14477', 'Тягостров']\n",
            "['22970', 'Колдостров']\n",
            "['7689', 'Мягостров']\n",
            "['41908', 'Шуйостров']\n",
            "(['http://www.wikidata.org/entity/Q4212426', 'Канзанаволок'], ['39093', 'Канзанаволок'], 0)\n",
            "(['http://www.wikidata.org/entity/Q4230532', 'Кондостров'], ['13958', 'Кондостров'], 0)\n",
            "(['http://www.wikidata.org/entity/Q4230532', 'Кондостров'], ['16102', 'Кондостров'], 0)\n",
            "(['http://www.wikidata.org/entity/Q4230532', 'Кондостров'], ['22970', 'Колдостров'], 1)\n",
            "(['http://www.wikidata.org/entity/Q4234186', 'Корписари'], ['55705', 'Корбисари'], 1)\n",
            "(['http://www.wikidata.org/entity/Q4259162', 'Лепостров'], ['450', 'Лапостров'], 1)\n",
            "(['http://www.wikidata.org/entity/Q4259162', 'Лепостров'], ['6459', 'Лехостров'], 1)\n",
            "(['http://www.wikidata.org/entity/Q4259162', 'Лепостров'], ['7983', 'Лапостров'], 1)\n",
            "(['http://www.wikidata.org/entity/Q4259162', 'Лепостров'], ['14445', 'Лехостров'], 1)\n",
            "(['http://www.wikidata.org/entity/Q4259162', 'Лепостров'], ['15388', 'Липостров'], 1)\n",
            "(['http://www.wikidata.org/entity/Q4259162', 'Лепостров'], ['17279', 'Лехостров'], 1)\n",
            "(['http://www.wikidata.org/entity/Q4259162', 'Лепостров'], ['20470', 'Ледостров'], 1)\n",
            "(['http://www.wikidata.org/entity/Q4259162', 'Лепостров'], ['46293', 'Лехостров'], 1)\n",
            "(['http://www.wikidata.org/entity/Q18400050', 'Крестовый'], ['54467', 'Крестовый'], 0)\n",
            "(['http://www.wikidata.org/entity/Q18400052', 'Крестовый'], ['54467', 'Крестовый'], 0)\n",
            "(['http://www.wikidata.org/entity/Q18662955', 'Святой остров'], ['1831', 'Святой остров'], 0)\n",
            "(['http://www.wikidata.org/entity/Q19909173', 'Южный Олений остров'], ['8691', 'Южный Олений остров'], 0)\n",
            "(['http://www.wikidata.org/entity/Q37909684', 'Кишкин'], ['35227', 'Кошкин'], 1)\n",
            "(['http://www.wikidata.org/entity/Q4527392', 'Шуйостров'], ['41908', 'Шуйостров'], 0)\n",
            "(['http://www.wikidata.org/entity/Q205244', 'Кижи'], ['8958', 'Кижи'], 0)\n",
            "(['http://www.wikidata.org/entity/Q109437159', 'Лычный'], ['8473', 'Лычные'], 1)\n",
            "(['http://www.wikidata.org/entity/Q109437159', 'Лычный'], ['8473', 'Лычный'], 0)\n",
            "(['http://www.wikidata.org/entity/Q109437159', 'Лычный'], ['50673', 'Лычный'], 0)\n",
            "(['http://www.wikidata.org/entity/Q4394504', 'Риеккалансаари'], ['41198', 'Риеккалансари'], 1)\n",
            "(['http://www.wikidata.org/entity/Q4497276', 'Хепосаари'], ['45475', 'Хепосари'], 1)\n",
            "(['http://www.wikidata.org/entity/Q4497276', 'Хепосаари'], ['51926', 'Хепосари'], 1)\n",
            "(['http://www.wikidata.org/entity/Q16701500', 'Средний'], ['7897', 'Средний'], 0)\n",
            "(['http://www.wikidata.org/entity/Q16701500', 'Средний'], ['54468', 'Средний'], 0)\n",
            "(['http://www.wikidata.org/entity/Q16701500', 'Средний'], ['55802', 'Средний'], 0)\n",
            "(['http://www.wikidata.org/entity/Q19908207', 'Хонкасало'], ['45476', 'Хонкасало'], 0)\n",
            "(['http://www.wikidata.org/entity/Q19908207', 'Хонкасало'], ['51927', 'Хонкасало'], 0)\n",
            "(['http://www.wikidata.org/entity/Q37906401', 'Брусно'], ['29141', 'Брусно'], 0)\n",
            "(['http://www.wikidata.org/entity/Q37906401', 'Брусно'], ['40378', 'Брусно'], 0)\n",
            "(['http://www.wikidata.org/entity/Q37912816', 'Мягостров'], ['6463', 'Мягостров'], 0)\n",
            "(['http://www.wikidata.org/entity/Q37912816', 'Мягостров'], ['7689', 'Мягостров'], 0)\n",
            "(['http://www.wikidata.org/entity/Q37912816', 'Мягостров'], ['14477', 'Тягостров'], 1)\n",
            "(['http://www.wikidata.org/entity/Q37912816', 'Мягостров'], ['15029', 'Мягостров'], 0)\n",
            "(['http://www.wikidata.org/entity/Q18405933', 'Никольский остров'], ['10627', 'Никольский остров'], 0)\n",
            "(['http://www.wikidata.org/entity/Q114423967', 'Выгостров'], ['43536', 'Выгостров'], 0)\n"
          ]
        }
      ]
    },
    {
      "cell_type": "code",
      "source": [],
      "metadata": {
        "id": "L27xOt57bMfJ"
      },
      "execution_count": null,
      "outputs": []
    },
    {
      "cell_type": "code",
      "source": [
        "# def components(file1, file2,):\n",
        "\n",
        "f2 = open('island_q.txt', 'r', encoding='utf-8')\n",
        "f1 = open('islands10.txt', 'r',encoding='utf-8')\n",
        "parametr = 4\n",
        "file1 = [line.strip().split('\t') for line in f1]\n",
        "file2 = [line.strip().split('\t') for line in f2]\n",
        "\n",
        "mydict = {}\n",
        "for i in file2:\n",
        "  for j in file1:\n",
        "    lev = jf.levenshtein_distance(i[1],j[1])\n",
        "    if lev < parametr:\n",
        "      mydict[i[1]]= mydict.get(i[1], []) + [j[0]]\n",
        "\n",
        "# seconddict = mydict\n",
        "# visited = ()\n",
        "# for key1, value1 in mydict.items():\n",
        "#   for key2, value2 in seconddict.items():\n",
        "#     for i in value2\n",
        "#       if value1.contains(i)\n",
        "#         visited\n",
        "\n",
        "components = []\n",
        "visited = set()\n",
        "for key1, value1 in mydict.items():\n",
        "        if key1 not in visited:\n",
        "            component = []\n",
        "            stack = [key1]\n",
        "\n",
        "            while stack:\n",
        "                key_n = stack.pop()\n",
        "                if key_n not in visited:\n",
        "                    component.append(key_n)\n",
        "                    visited.add(key_n)\n",
        "                    for key1, value1 in mydict.items():\n",
        "                      for i in value1:\n",
        "                        if i in mydict[key_n]:\n",
        "                          stack.append(key1)\n",
        "\n",
        "            components.append(component)\n",
        "\n",
        "\n",
        "print(mydict)\n",
        "print(components)"
      ],
      "metadata": {
        "id": "b8NeFwEXbMf1",
        "outputId": "54e9c50f-826b-494e-e3c4-a7e645b9eaf7",
        "colab": {
          "base_uri": "https://localhost:8080/"
        }
      },
      "execution_count": 13,
      "outputs": [
        {
          "output_type": "stream",
          "name": "stdout",
          "text": [
            "{'Путсаари': ['45289', '45339', '45366', '51740', '51790', '51817', '55304'], 'Канзанаволок': ['39093'], 'Койонсаари': ['55705', '55712'], 'Кондостров': ['3865', '4211', '4212', '4212', '4213', '4213', '4223', '6356', '6356', '7694', '7974', '8410', '8537', '10752', '13304', '13972', '15339', '20391', '20391', '21792', '21959', '22025', '22058', '22579', '22637', '22967', '23471', '23513', '23523', '27718', '27765', '39142', '39163', '41870', '41876', '43546', '43547', '46357', '46358', '49912', '199', '783', '3106', '4036', '4211', '4223', '4354', '4761', '4794', '5539', '6356', '6473', '6691', '7693', '7865', '7974', '8409', '8508', '8537', '8996', '10634', '10820', '13958', '13964', '13973', '14415', '14463', '14581', '14602', '14616', '15140', '15339', '16102', '20391', '20421', '20441', '20470', '21295', '21338', '21367', '21380', '21471', '21935', '22025', '22058', '22087', '22459', '22558', '22969', '22970', '23039', '23145', '23269', '23393', '23506', '27764', '30481', '39150', '39163', '41417', '41428', '41430', '41470', '41802', '41870', '41882', '41901', '42628', '43546', '43547', '46410', '46412', '49737', '49739', '49835', '49911', '49912', '55234', '55606', '56414'], 'Корписари': ['45391', '45463', '45499', '51842', '51914', '51950', '55304', '55705', '55705'], 'Котатсаари': ['45482', '51933', '55705', '55712', '55712'], 'Кухка': ['4827', '7951', '21109', '23145', '45489', '49650', '50676', '50729', '51940', '620', '1502', '4877', '6764', '7914', '17058', '19993', '20207', '21109', '22464', '23003', '23523', '25155', '27057', '30259', '47875', '49841', '49953', '50932', '51652', '54533', '54701'], 'Лауватсаари': ['45462', '45469', '51913', '51920'], 'Лепостров': ['1152', '3424', '4211', '4212', '4213', '4988', '5882', '6471', '6501', '6520', '7694', '7900', '7974', '8410', '8537', '8700', '8716', '10752', '10780', '10820', '13304', '13386', '13386', '13638', '14297', '14347', '14562', '15149', '17058', '18244', '18244', '20470', '20470', '21792', '22058', '22330', '22495', '22579', '22967', '23125', '23128', '23135', '23148', '23148', '23149', '23393', '23471', '23506', '23513', '27318', '27735', '30494', '30495', '34889', '34909', '35178', '46293', '49635', '49774', '200', '450', '2482', '3424', '3822', '4223', '4354', '4761', '4986', '4988', '5885', '6459', '6460', '6463', '6471', '6473', '6488', '6678', '7530', '7689', '7693', '7851', '7863', '7901', '7919', '7974', '7983', '8409', '8508', '8537', '8700', '10634', '10682', '10752', '10780', '10820', '14297', '14347', '14445', '14477', '14562', '14636', '14755', '14808', '14940', '14985', '15029', '15388', '16876', '17117', '17253', '17279', '17281', '18244', '18378', '18521', '20421', '20441', '20470', '20544', '20907', '21295', '21305', '21338', '21380', '21564', '21935', '22052', '22087', '22307', '22554', '22558', '22903', '22953', '22969', '22996', '23006', '23039', '23125', '23128', '23137', '23148', '23149', '23150', '23379', '23393', '23471', '23506', '23513', '27077', '27736', '30481', '30494', '30495', '36540', '39223', '41409', '41430', '41464', '41470', '41802', '41908', '42030', '42628', '43255', '43534', '43536', '46293', '49636', '49637', '49679', '49737', '49742', '49771', '49773', '49835', '49911', '50669', '54577', '54775', '55234', '55606', '56414'], 'Валаам': ['43222', '48994'], 'Дивный остров': ['5786', '5838', '7539', '785', '1922', '3694', '4117', '4297', '4349', '4531', '5064', '5145', '5870', '8819', '13332', '14429', '15676', '23322', '49758'], 'Мантсинсаари': ['45340', '51791'], 'Пеллотсари': ['45324', '45439', '45458', '51775', '51890', '51909'], 'Крестовый': ['54467', '55035', '54467', '55035'], 'Святой остров': ['51083', '1831', '4327', '4983', '22112', '23478', '23480'], 'Южный Олений остров': ['8691'], 'Кишкин': ['32521', '45489', '49650', '49953', '51940', '1502', '7972', '8958', '13506', '25429', '32598', '35227', '38929', '41692', '47882', '49650', '49841', '49953', '55223'], 'Popov': ['47175'], 'Верккосаари': ['45473', '51924'], 'Кугрисаари': ['55304', '55705', '55304'], 'Шуйостров': ['4036', '4211', '4212', '4212', '4213', '4213', '4223', '4988', '5882', '6356', '6471', '6520', '7694', '7900', '8700', '8716', '10752', '13304', '13304', '13386', '14297', '14347', '15149', '17058', '17058', '18244', '20470', '21792', '22058', '22330', '22331', '22495', '22579', '22967', '23125', '23128', '23135', '23393', '23471', '23506', '23513', '23523', '27318', '27735', '27759', '30494', '34889', '34909', '35178', '41870', '41870', '41876', '43546', '43547', '46358', '46410', '49773', '49774', '49912', '200', '450', '3424', '3822', '4036', '4211', '4223', '4354', '4761', '4794', '4986', '4988', '5885', '6459', '6460', '6462', '6463', '6473', '6488', '6678', '7530', '7689', '7693', '7851', '7863', '7901', '7919', '7983', '8700', '10634', '10682', '10820', '14297', '14347', '14427', '14445', '14477', '14562', '14602', '14608', '14616', '14808', '14985', '15029', '15388', '16876', '17117', '17253', '17279', '17281', '18244', '20421', '20441', '20470', '20544', '21295', '21305', '21338', '21367', '21380', '21471', '21564', '21935', '22052', '22087', '22307', '22554', '22558', '22903', '22953', '22969', '22996', '23006', '23039', '23125', '23128', '23137', '23145', '23150', '23243', '23393', '23470', '23471', '23506', '23513', '27077', '27736', '27760', '30481', '30495', '36540', '39223', '41409', '41428', '41430', '41470', '41802', '41870', '41876', '41908', '42628', '43255', '43534', '43536', '43546', '43547', '46293', '46358', '46410', '49637', '49679', '49737', '49742', '49771', '49773', '49774', '49835', '49911', '49912', '50669', '54577', '54775', '55234', '55606', '56414'], 'Кижи': ['200', '22579', '23145', '35006', '45489', '45505', '49953', '50729', '51940', '51956', '5109', '6764', '7951', '7972', '8442', '8678', '8958', '13897', '14759', '15234', '21792', '23523', '39151', '40828', '43222', '49650', '50929', '51652'], 'Лычный': ['7941', '8473', '8473', '50673', '55130', '7540', '8473', '8997', '17039', '17299', '23433', '23515', '38759', '40337', '41415', '41462', '41897', '42623', '43548', '46353', '50673', '50674', '51301', '51410', '55130'], 'Орайтсаари': ['45464', '51915'], 'Палосаарет': ['45324', '51775'], 'Петросаари': ['45336', '51787'], 'Риеккалансаари': ['41198'], 'Сало (остров)': ['6477'], 'Свиной': ['8487', '20826', '27726', '47880', '55130', '56488', '2613', '7898', '7941', '7968', '8715', '8997', '14111', '17039', '23003', '27725', '32599', '38449', '41473', '47875', '51354', '55241', '56489'], 'Ситтулуото': ['45387', '51838'], 'Хепосаари': ['45328', '45475', '51779', '51926'], 'Рахмансаари': ['55712'], 'Ивановский остров': ['27356'], 'Средний': ['26322', '7872', '7897', '7968', '41473', '54468', '54973', '55802'], 'Карпансаари': ['55712'], 'Каннансаари': ['55712'], 'Хамарансари': ['45327', '51778'], 'Хонкасало': ['45476', '51927'], 'Vuohisaari': ['36702', '35006', '45289', '45418', '47347', '47348', '51740', '51869'], 'Ряпой': ['5881', '6458', '7941', '22969', '56488', '2613', '4976', '6458', '7852', '7941', '8678', '8997', '12757', '22829', '22967', '23003', '23526', '25658', '47875', '49865', '51354', '55807', '56489'], 'Брусно': ['29141', '14756', '40378', '40399'], 'Мягостров': ['1152', '3424', '3424', '3865', '4211', '4212', '4213', '4988', '5882', '6356', '6356', '6471', '6520', '7694', '7900', '7974', '8053', '8537', '8700', '8716', '10752', '13304', '13304', '13386', '13386', '14297', '14347', '14562', '15123', '15149', '15339', '17058', '18244', '18244', '20470', '21792', '21959', '22058', '22330', '22495', '22579', '22967', '23125', '23128', '23135', '23393', '23471', '23506', '23513', '27318', '27487', '27735', '30494', '34889', '34909', '35178', '39142', '43546', '43547', '49774', '56601', '200', '450', '783', '1667', '2482', '3424', '3822', '4223', '4354', '4761', '4902', '4986', '4988', '5539', '5885', '6356', '6459', '6460', '6462', '6463', '6473', '6488', '6678', '7530', '7689', '7693', '7851', '7863', '7901', '7919', '7983', '8058', '8700', '10634', '10682', '10820', '13386', '14297', '14347', '14445', '14477', '14562', '14808', '14985', '15029', '15123', '15339', '15388', '16876', '17117', '17253', '17279', '17281', '18244', '20421', '20441', '20470', '20544', '20907', '21295', '21305', '21338', '21380', '21564', '21935', '21969', '22052', '22087', '22153', '22307', '22554', '22558', '22903', '22953', '22969', '22996', '23006', '23039', '23125', '23128', '23137', '23149', '23150', '23243', '23269', '23393', '23471', '23506', '23513', '27077', '27736', '30481', '30495', '36540', '38920', '39142', '39150', '39163', '39223', '41409', '41417', '41428', '41430', '41470', '41535', '41802', '41901', '41908', '42030', '42628', '43255', '43267', '43534', '43536', '43546', '43547', '46293', '49637', '49679', '49737', '49742', '49771', '49773', '49835', '49911', '49912', '50669', '54577', '54775', '55234', '55239', '55606', '56414', '56603'], 'Никольский остров': ['10627'], 'Лембос': ['4225', '2767', '4218', '6458', '7913', '8642', '22305'], 'Светлый остров': ['8700', '1831', '5801', '5870', '8716', '14244', '14429'], 'Выгостров': ['1152', '3865', '4211', '4212', '4213', '4988', '5882', '6356', '6356', '6471', '6520', '7694', '7864', '7900', '7974', '8053', '8537', '8700', '8716', '10752', '13304', '13386', '14297', '14347', '14562', '14562', '15149', '15339', '17058', '18244', '20448', '20470', '21295', '21792', '21959', '22058', '22330', '22495', '22579', '22967', '23125', '23128', '23135', '23393', '23471', '23506', '23513', '27318', '27487', '27735', '30494', '34889', '34909', '35178', '39142', '43546', '43547', '49774', '200', '450', '783', '1667', '2482', '3424', '3822', '4223', '4354', '4761', '4986', '4988', '5539', '5885', '6356', '6459', '6460', '6463', '6473', '6488', '6678', '7530', '7689', '7693', '7851', '7863', '7865', '7901', '7919', '7983', '8058', '8700', '8996', '10634', '10682', '10820', '14297', '14347', '14415', '14445', '14477', '14562', '14808', '14985', '15029', '15339', '15388', '16876', '17117', '17253', '17279', '17281', '18244', '20342', '20421', '20441', '20470', '20544', '20907', '21295', '21305', '21338', '21380', '21564', '21935', '22052', '22058', '22087', '22307', '22554', '22558', '22903', '22953', '22969', '22996', '23006', '23039', '23125', '23128', '23137', '23149', '23150', '23269', '23393', '23471', '23506', '23513', '27077', '27736', '30481', '30495', '36540', '38920', '39142', '39150', '39163', '39223', '41409', '41417', '41428', '41430', '41470', '41535', '41802', '41901', '41908', '42030', '42628', '43255', '43534', '43536', '43546', '43547', '46293', '49637', '49679', '49737', '49739', '49742', '49771', '49773', '49835', '49911', '49912', '50669', '54577', '54775', '55234', '55496', '55606', '56414'], 'Малый Колгостров': ['1152', '2482', '7534', '14034']}\n",
            "[['Путсаари', 'Vuohisaari', 'Кижи', 'Выгостров', 'Малый Колгостров', 'Мягостров', 'Светлый остров', 'Шуйостров', 'Ряпой', 'Лембос', 'Свиной', 'Средний', 'Лычный', 'Кухка', 'Кишкин', 'Лепостров', 'Кондостров', 'Святой остров', 'Дивный остров', 'Валаам', 'Кугрисаари', 'Котатсаари', 'Каннансаари', 'Карпансаари', 'Рахмансаари', 'Койонсаари', 'Корписари'], ['Канзанаволок'], ['Лауватсаари'], ['Мантсинсаари'], ['Пеллотсари', 'Палосаарет'], ['Крестовый'], ['Южный Олений остров'], ['Popov'], ['Верккосаари'], ['Орайтсаари'], ['Петросаари'], ['Риеккалансаари'], ['Сало (остров)'], ['Ситтулуото'], ['Хепосаари'], ['Ивановский остров'], ['Хамарансари'], ['Хонкасало'], ['Брусно'], ['Никольский остров']]\n"
          ]
        }
      ]
    },
    {
      "cell_type": "markdown",
      "source": [
        "Алгоритм поиска компоент"
      ],
      "metadata": {
        "id": "2Vpef_X0-_9H"
      }
    },
    {
      "cell_type": "markdown",
      "source": [
        " Вызывается функция find_shared_elements_jf с указанными аргументами имён файлов и параметра\n",
        "\n",
        " Создается список sorted_nodes, в котором удаляются дубликаты объектов.\n",
        "\n",
        " Определяются две функции: write_nodes_to_csv и write_edges_to_csv, которые будут использоваться для записи данных в CSV-файлы.\n",
        "\n",
        "  Функция write_nodes_to_csv записывает данные л вершинах графа из списка c1 в файл с именем filename в формате CSV, добавляя информацию о типе объекта (\"wiki\" или \"topkar\") в последний столбец в зависимости от значения первого элемента каждой строки.\n",
        "\n",
        "  Функция write_edges_to_csv записывает данные о рёбрах графа из списка c1 в файл с именем filename в формате CSV.\n",
        "\n",
        "  Наконец, вызываются функции write_nodes_to_csv и write_edges_to_csv, чтобы создать файлы с вершинами и ребрами графа"
      ],
      "metadata": {
        "id": "OpZ-131omCTU"
      }
    },
    {
      "cell_type": "code",
      "source": [
        "pp = pprint.PrettyPrinter(indent=4)\n",
        "\n",
        "SCOPES = ['https://www.googleapis.com/auth/drive']\n",
        "SERVICE_ACCOUNT_FILE = '/content/winged-complex-421609-672350f9d66f.json'\n",
        "credentials = service_account.Credentials.from_service_account_file(\n",
        "        SERVICE_ACCOUNT_FILE, scopes=SCOPES)\n",
        "service = build('drive', 'v3', credentials=credentials)\n",
        "\n",
        "\n",
        "folder_id = '1N5OznaW-E1wzuLAQXkAmtwuCXZEgBRLo'\n",
        "name = 'output_e.csv'\n",
        "file_path = '/content/output_e.csv'\n",
        "file_metadata = {\n",
        "                'name': name,\n",
        "                'parents': [folder_id]\n",
        "            }\n",
        "media = MediaFileUpload(file_path, resumable=True)\n",
        "r = service.files().create(body=file_metadata, media_body=media, fields='id').execute()\n",
        "\n",
        "folder_id = '1N5OznaW-E1wzuLAQXkAmtwuCXZEgBRLo'\n",
        "name = 'output_n.csv'\n",
        "file_metadata = {\n",
        "                'name': name,\n",
        "                'parents': [folder_id]\n",
        "            }\n",
        "file_path = '/content/output_n.csv'\n",
        "media = MediaFileUpload(file_path, resumable=True)\n",
        "r = service.files().create(body=file_metadata, media_body=media, fields='id').execute()\n",
        "\n",
        "\n",
        "pp.pprint(r)"
      ],
      "metadata": {
        "id": "0Gu2PlheGKH6",
        "outputId": "21855fb4-deea-4bc9-bd51-7a2f9becb723",
        "colab": {
          "base_uri": "https://localhost:8080/"
        }
      },
      "execution_count": null,
      "outputs": [
        {
          "output_type": "stream",
          "name": "stdout",
          "text": [
            "{'id': '1iZVkhveRQa6Om3vW5rjbP8sb8vR8_w1B'}\n"
          ]
        }
      ]
    },
    {
      "cell_type": "markdown",
      "source": [
        "Устанавливаем необходимые права доступа (SCOPES) и загружаем файл сервисного аккаунта (SERVICE_ACCOUNT_FILE).\n",
        "\n",
        "Создаем учетные данные (credentials) на основе файла сервисного аккаунта и указанных прав доступа.\n",
        "\n",
        "Определяем идентификатор папки (folder_id), имя файла (name), путь к файлу на локальной машине (file_path) и метаданные файла для первого файла.\n",
        "\n",
        "Загружаем первый файл на Google Drive с помощью метода files().create() с указанием метаданных и содержимого файла.\n",
        "\n",
        "Повторяем предыдущие два шага для второго файла"
      ],
      "metadata": {
        "id": "AuGRMy7jnvyP"
      }
    }
  ]
}
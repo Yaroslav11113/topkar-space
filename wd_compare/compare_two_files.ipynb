{
  "nbformat": 4,
  "nbformat_minor": 0,
  "metadata": {
    "colab": {
      "provenance": [],
      "include_colab_link": true
    },
    "kernelspec": {
      "name": "python3",
      "display_name": "Python 3"
    },
    "language_info": {
      "name": "python"
    }
  },
  "cells": [
    {
      "cell_type": "markdown",
      "metadata": {
        "id": "view-in-github",
        "colab_type": "text"
      },
      "source": [
        "<a href=\"https://colab.research.google.com/github/componavt/topkar-space/blob/main/wd_compare/compare_two_files.ipynb\" target=\"_parent\"><img src=\"https://colab.research.google.com/assets/colab-badge.svg\" alt=\"Open In Colab\"/></a>"
      ]
    },
    {
      "cell_type": "code",
      "execution_count": 3,
      "metadata": {
        "id": "kwB0A9Gh8H3-"
      },
      "outputs": [],
      "source": [
        "from itertools import chain\n",
        "from difflib import SequenceMatcher\n",
        "from ctypes import sizeof\n",
        "import time\n",
        "!pip install jellyfish\n",
        "import jellyfish as jf"
      ]
    },
    {
      "cell_type": "code",
      "source": [
        "#!wget https://github.com/componavt/topkar-space/raw/master/wd_compare/island_query.txt\n",
        "!wget https://raw.githubusercontent.com/componavt/topkar-space/main/wd_compare/island_query.txt\n",
        "# cat island_query.txt\n",
        "\n",
        "!wget https://raw.githubusercontent.com/componavt/topkar-space/main/wd_compare/islands10.txt\n",
        "\n",
        "!wget https://raw.githubusercontent.com/componavt/topkar-space/main/wd_compare/lake_query.txt\n",
        "!wget https://raw.githubusercontent.com/componavt/topkar-space/main/wd_compare/lakes10.txt"
      ],
      "metadata": {
        "id": "QKJ0B2xqilKO",
        "outputId": "7a8cef23-ef6f-428c-c30b-8b9b886fee16",
        "colab": {
          "base_uri": "https://localhost:8080/"
        }
      },
      "execution_count": 4,
      "outputs": [
        {
          "output_type": "stream",
          "name": "stdout",
          "text": [
            "--2024-04-02 04:03:15--  https://raw.githubusercontent.com/componavt/topkar-space/main/wd_compare/island_query.txt\n",
            "Resolving raw.githubusercontent.com (raw.githubusercontent.com)... 185.199.108.133, 185.199.109.133, 185.199.110.133, ...\n",
            "Connecting to raw.githubusercontent.com (raw.githubusercontent.com)|185.199.108.133|:443... connected.\n",
            "HTTP request sent, awaiting response... 200 OK\n",
            "Length: 2164 (2.1K) [text/plain]\n",
            "Saving to: ‘island_query.txt.1’\n",
            "\n",
            "\risland_query.txt.1    0%[                    ]       0  --.-KB/s               \risland_query.txt.1  100%[===================>]   2.11K  --.-KB/s    in 0s      \n",
            "\n",
            "2024-04-02 04:03:15 (17.3 MB/s) - ‘island_query.txt.1’ saved [2164/2164]\n",
            "\n",
            "--2024-04-02 04:03:15--  https://raw.githubusercontent.com/componavt/topkar-space/main/wd_compare/islands10.txt\n",
            "Resolving raw.githubusercontent.com (raw.githubusercontent.com)... 185.199.108.133, 185.199.109.133, 185.199.110.133, ...\n",
            "Connecting to raw.githubusercontent.com (raw.githubusercontent.com)|185.199.108.133|:443... connected.\n",
            "HTTP request sent, awaiting response... 200 OK\n",
            "Length: 98985 (97K) [text/plain]\n",
            "Saving to: ‘islands10.txt.1’\n",
            "\n",
            "islands10.txt.1     100%[===================>]  96.67K  --.-KB/s    in 0.004s  \n",
            "\n",
            "2024-04-02 04:03:15 (25.9 MB/s) - ‘islands10.txt.1’ saved [98985/98985]\n",
            "\n"
          ]
        }
      ]
    },
    {
      "cell_type": "code",
      "source": [
        "from ctypes import sizeof\n",
        "def find_shared_elements_jf(file1, file2):\n",
        "  start_time = time.time()\n",
        "  f2 = open(file1, 'r', encoding='utf-8')\n",
        "  f1 = open(file2, 'r',encoding='utf-8')\n",
        "\n",
        "  file1 = [line.strip().split('\t') for line in f1]\n",
        "  file2 = [line.strip().split('\t') for line in f2]\n",
        "\n",
        "\n",
        "  c,c2 = [],[]\n",
        "  for i in file2:\n",
        "    for j in file1:\n",
        "      if jf.levenshtein_distance(i[1],j[1]) < 2:\n",
        "        c.append(i)\n",
        "        c2.append(j)\n",
        "\n",
        "  final = list(zip(c,c2))\n",
        "  print(c)\n",
        "  print(len(c))\n",
        "\n",
        "  f1.close()\n",
        "  f2.close()\n",
        "  print(\"--- %s seconds ---\" % (time.time() - start_time))\n",
        "  return(final)\n"
      ],
      "metadata": {
        "id": "EayKaUOB8he0",
        "outputId": "e55c26e9-6c21-4065-f081-4c11c8f6e699",
        "colab": {
          "base_uri": "https://localhost:8080/"
        }
      },
      "execution_count": 6,
      "outputs": [
        {
          "output_type": "stream",
          "name": "stdout",
          "text": [
            "['Канзанаволок', 'Кондостров', 'Крестовый', 'Крестовый', 'Святой остров', 'Южный Олений остров', 'Средний', 'Хонкасало', 'Брусно', 'Мягостров', 'Шуйостров', 'Выгостров', 'Кижи', 'Лычный', 'Никольский остров']\n",
            "15\n"
          ]
        }
      ]
    },
    {
      "cell_type": "code",
      "source": [
        "def find_shared_elements(file1, file2):\n",
        "  start_time = time.time()\n",
        "  f2 = open(file1, 'r', encoding='utf-8')\n",
        "  f1 = open(file2, 'r',encoding='utf-8')\n",
        "\n",
        "  file1 = [line.strip().split('\t') for line in f1]\n",
        "  file2 = [line.strip().split('\t') for line in f2]\n",
        "\n",
        "  c =[]\n",
        "  for i in file2:\n",
        "    for j in file1:\n",
        "      if SequenceMatcher(None,i[1],j[1]).ratio() > 0.9:\n",
        "        c.append(i)\n",
        "        c2.append(j)\n",
        "\n",
        "\n",
        "\n",
        "  final = list(zip(c,c2))\n",
        "  print(c)\n",
        "  print(len(c))\n",
        "\n",
        "  f1.close()\n",
        "  f2.close()\n",
        "  print(\"--- %s seconds ---\" % (time.time() - start_time))\n",
        "  return(final)"
      ],
      "metadata": {
        "id": "TGU_O7-lNoM1"
      },
      "execution_count": null,
      "outputs": []
    },
    {
      "cell_type": "code",
      "source": [],
      "metadata": {
        "id": "tiSKl3jaOFEC"
      },
      "execution_count": null,
      "outputs": []
    },
    {
      "cell_type": "code",
      "source": [
        "c1 = find_shared_elements('island_query.txt', 'islands10.txt')\n",
        "c2 = find_shared_elements_jf('island_q.txt', 'islands10.txt')\n",
        "\n",
        "def create_html_table(rows, columns, c2):\n",
        "    html_table = \"<table>\"\n",
        "\n",
        "    for i in range(rows):\n",
        "        html_table += \"<tr>\"\n",
        "\n",
        "        html_table += f\"<td><a href ={c2[i][0][0]}> {c2[i][0][0]} <a></td>\"\n",
        "        html_table += f\"<td>{c2[i][0][1]}</td>\"\n",
        "        html_table += f\"<td>{c2[i][1][0]}</td>\"\n",
        "        html_table += f\"<td>{c2[i][1][1]}</td>\"\n",
        "        html_table += \"</tr>\"\n",
        "\n",
        "    html_table += \"</table>\"\n",
        "\n",
        "    return html_table\n",
        "\n",
        "\n",
        "def save_html_table_to_file(html_code, file_name):\n",
        "    with open(file_name, \"w\") as file:\n",
        "        file.write(html_code)\n",
        "    print(f\"HTML table saved to {file_name}\")\n",
        "\n",
        "\n",
        "\n",
        "rows = len(c2)\n",
        "print(f\"Rows in toal {rows}\")\n",
        "columns = 4\n",
        "html_code = create_html_table(rows, columns, c2)\n",
        "file_name = \"table.html\"\n",
        "save_html_table_to_file(html_code, file_name)"
      ],
      "metadata": {
        "colab": {
          "base_uri": "https://localhost:8080/"
        },
        "id": "xkNsIhzmPAxd",
        "outputId": "18e69091-3cbf-4011-fdb9-f6f265e8c63b"
      },
      "execution_count": null,
      "outputs": [
        {
          "output_type": "stream",
          "name": "stdout",
          "text": [
            "{'Крестовый', 'Шуйостров', 'Кижи', 'Южный Олений остров', 'Мягостров', 'Риеккалансаари', 'Лычный', 'Никольский остров', 'Брусно', 'Святой остров', 'Выгостров', 'Хонкасало', 'Средний', 'Канзанаволок', 'Хепосаари', 'Ивановский остров', 'Кондостров'}\n",
            "17\n",
            "--- 9.420164346694946 seconds ---\n",
            "[['http://www.wikidata.org/entity/Q4212426', 'Канзанаволок'], ['http://www.wikidata.org/entity/Q4230532', 'Кондостров'], ['http://www.wikidata.org/entity/Q4230532', 'Кондостров'], ['http://www.wikidata.org/entity/Q4230532', 'Кондостров'], ['http://www.wikidata.org/entity/Q4234186', 'Корписари'], ['http://www.wikidata.org/entity/Q4259162', 'Лепостров'], ['http://www.wikidata.org/entity/Q4259162', 'Лепостров'], ['http://www.wikidata.org/entity/Q4259162', 'Лепостров'], ['http://www.wikidata.org/entity/Q4259162', 'Лепостров'], ['http://www.wikidata.org/entity/Q4259162', 'Лепостров'], ['http://www.wikidata.org/entity/Q4259162', 'Лепостров'], ['http://www.wikidata.org/entity/Q4259162', 'Лепостров'], ['http://www.wikidata.org/entity/Q4259162', 'Лепостров'], ['http://www.wikidata.org/entity/Q18400050', 'Крестовый'], ['http://www.wikidata.org/entity/Q18400052', 'Крестовый'], ['http://www.wikidata.org/entity/Q18662955', 'Святой остров'], ['http://www.wikidata.org/entity/Q19909173', 'Южный Олений остров'], ['http://www.wikidata.org/entity/Q37909684', 'Кишкин'], ['http://www.wikidata.org/entity/Q4527392', 'Шуйостров'], ['http://www.wikidata.org/entity/Q205244', 'Кижи'], ['http://www.wikidata.org/entity/Q109437159', 'Лычный'], ['http://www.wikidata.org/entity/Q109437159', 'Лычный'], ['http://www.wikidata.org/entity/Q109437159', 'Лычный'], ['http://www.wikidata.org/entity/Q4394504', 'Риеккалансаари'], ['http://www.wikidata.org/entity/Q4497276', 'Хепосаари'], ['http://www.wikidata.org/entity/Q4497276', 'Хепосаари'], ['http://www.wikidata.org/entity/Q16701500', 'Средний'], ['http://www.wikidata.org/entity/Q16701500', 'Средний'], ['http://www.wikidata.org/entity/Q16701500', 'Средний'], ['http://www.wikidata.org/entity/Q19908207', 'Хонкасало'], ['http://www.wikidata.org/entity/Q19908207', 'Хонкасало'], ['http://www.wikidata.org/entity/Q37906401', 'Брусно'], ['http://www.wikidata.org/entity/Q37906401', 'Брусно'], ['http://www.wikidata.org/entity/Q37912816', 'Мягостров'], ['http://www.wikidata.org/entity/Q37912816', 'Мягостров'], ['http://www.wikidata.org/entity/Q37912816', 'Мягостров'], ['http://www.wikidata.org/entity/Q37912816', 'Мягостров'], ['http://www.wikidata.org/entity/Q18405933', 'Никольский остров'], ['http://www.wikidata.org/entity/Q114423967', 'Выгостров']]\n",
            "39\n",
            "--- 1.650895118713379 seconds ---\n",
            "Rows in toal 39\n",
            "HTML table saved to table.html\n"
          ]
        }
      ]
    }
  ]
}
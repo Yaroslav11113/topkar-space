{
  "nbformat": 4,
  "nbformat_minor": 0,
  "metadata": {
    "colab": {
      "provenance": [],
      "include_colab_link": true
    },
    "kernelspec": {
      "name": "python3",
      "display_name": "Python 3"
    },
    "language_info": {
      "name": "python"
    }
  },
  "cells": [
    {
      "cell_type": "markdown",
      "metadata": {
        "id": "view-in-github",
        "colab_type": "text"
      },
      "source": [
        "<a href=\"https://colab.research.google.com/github/componavt/topkar-space/blob/main/wd_compare/compare_two_files.ipynb\" target=\"_parent\"><img src=\"https://colab.research.google.com/assets/colab-badge.svg\" alt=\"Open In Colab\"/></a>"
      ]
    },
    {
      "cell_type": "code",
      "execution_count": 3,
      "metadata": {
        "id": "kwB0A9Gh8H3-"
      },
      "outputs": [],
      "source": [
        "from itertools import chain"
      ]
    },
    {
      "cell_type": "code",
      "source": [
        "#!wget https://github.com/componavt/topkar-space/raw/master/wd_compare/island_query.txt\n",
        "!wget https://raw.githubusercontent.com/componavt/topkar-space/main/wd_compare/island_query.txt\n",
        "# cat island_query.txt\n",
        "\n",
        "!wget https://raw.githubusercontent.com/componavt/topkar-space/main/wd_compare/islands10.txt"
      ],
      "metadata": {
        "id": "QKJ0B2xqilKO",
        "outputId": "4fafed40-8113-4bdb-9f3c-7ab46220ad6d",
        "colab": {
          "base_uri": "https://localhost:8080/"
        }
      },
      "execution_count": 8,
      "outputs": [
        {
          "output_type": "stream",
          "name": "stdout",
          "text": [
            "--2024-03-13 06:47:22--  https://raw.githubusercontent.com/componavt/topkar-space/main/wd_compare/island_query.txt\n",
            "Resolving raw.githubusercontent.com (raw.githubusercontent.com)... 185.199.108.133, 185.199.109.133, 185.199.110.133, ...\n",
            "Connecting to raw.githubusercontent.com (raw.githubusercontent.com)|185.199.108.133|:443... connected.\n",
            "HTTP request sent, awaiting response... 200 OK\n",
            "Length: 2164 (2.1K) [text/plain]\n",
            "Saving to: ‘island_query.txt.1’\n",
            "\n",
            "\risland_query.txt.1    0%[                    ]       0  --.-KB/s               \risland_query.txt.1  100%[===================>]   2.11K  --.-KB/s    in 0s      \n",
            "\n",
            "2024-03-13 06:47:22 (20.4 MB/s) - ‘island_query.txt.1’ saved [2164/2164]\n",
            "\n",
            "--2024-03-13 06:47:22--  https://raw.githubusercontent.com/componavt/topkar-space/main/wd_compare/islands10.txt\n",
            "Resolving raw.githubusercontent.com (raw.githubusercontent.com)... 185.199.109.133, 185.199.108.133, 185.199.110.133, ...\n",
            "Connecting to raw.githubusercontent.com (raw.githubusercontent.com)|185.199.109.133|:443... connected.\n",
            "HTTP request sent, awaiting response... 200 OK\n",
            "Length: 98985 (97K) [text/plain]\n",
            "Saving to: ‘islands10.txt’\n",
            "\n",
            "islands10.txt       100%[===================>]  96.67K  --.-KB/s    in 0.01s   \n",
            "\n",
            "2024-03-13 06:47:22 (6.69 MB/s) - ‘islands10.txt’ saved [98985/98985]\n",
            "\n"
          ]
        }
      ]
    },
    {
      "cell_type": "code",
      "source": [
        "f1 = open('island_query.txt', 'r', encoding='utf-8')\n",
        "f2 = open('islands10.txt', 'r',encoding='utf-8')\n",
        "\n",
        "file1 = [line.strip().split('\t') for line in f1]\n",
        "\n",
        "file2 = [line.strip() for line in f2]\n",
        "file1_1 = list(map(str, chain.from_iterable(file1)))\n",
        "\n",
        "c =[]\n",
        "\n",
        "for i in file2:\n",
        "    if i in file1_1:\n",
        "        c.append(i)\n",
        "\n",
        "print(c)\n",
        "print(len(c))\n",
        "\n",
        "f1.close()\n",
        "f2.close()\n"
      ],
      "metadata": {
        "id": "EayKaUOB8he0",
        "outputId": "5e799869-398b-470e-f52d-7c4b13ed57cd",
        "colab": {
          "base_uri": "https://localhost:8080/"
        }
      },
      "execution_count": 9,
      "outputs": [
        {
          "output_type": "stream",
          "name": "stdout",
          "text": [
            "[]\n",
            "0\n"
          ]
        }
      ]
    }
  ]
}
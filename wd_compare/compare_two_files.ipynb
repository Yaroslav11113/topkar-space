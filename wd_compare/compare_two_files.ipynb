{
  "nbformat": 4,
  "nbformat_minor": 0,
  "metadata": {
    "colab": {
      "provenance": [],
      "include_colab_link": true
    },
    "kernelspec": {
      "name": "python3",
      "display_name": "Python 3"
    },
    "language_info": {
      "name": "python"
    }
  },
  "cells": [
    {
      "cell_type": "markdown",
      "metadata": {
        "id": "view-in-github",
        "colab_type": "text"
      },
      "source": [
        "<a href=\"https://colab.research.google.com/github/componavt/topkar-space/blob/main/wd_compare/compare_two_files.ipynb\" target=\"_parent\"><img src=\"https://colab.research.google.com/assets/colab-badge.svg\" alt=\"Open In Colab\"/></a>"
      ]
    },
    {
      "cell_type": "code",
      "execution_count": 1,
      "metadata": {
        "id": "kwB0A9Gh8H3-"
      },
      "outputs": [],
      "source": [
        "from itertools import chain"
      ]
    },
    {
      "cell_type": "code",
      "source": [
        "f1 = open('topkar_database_query.txt', 'r', encoding='utf-8')\n",
        "f2 = open('wikidata_query.txt', 'r',encoding='utf-8')\n",
        "\n",
        "file1 = [line.strip().split('\t') for line in f1]\n",
        "\n",
        "file2 = [line.strip() for line in f2]\n",
        "file1_1 = list(map(str, chain.from_iterable(file1)))\n",
        "\n",
        "c =[]\n",
        "\n",
        "for i in file2:\n",
        "    if i in file1_1:\n",
        "        c.append(i)\n",
        "\n",
        "print(c)\n",
        "print(len(c))\n",
        "\n",
        "f1.close()\n",
        "f2.close()\n"
      ],
      "metadata": {
        "id": "EayKaUOB8he0"
      },
      "execution_count": null,
      "outputs": []
    }
  ]
}